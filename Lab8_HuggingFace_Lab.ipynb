{
  "cells": [
    {
      "cell_type": "markdown",
      "metadata": {
        "colab_type": "text",
        "id": "view-in-github"
      },
      "source": [
        "<a href=\"https://colab.research.google.com/github/zxcej/COMP691_LABS/blob/main/Lab8_HuggingFace_Lab.ipynb\" target=\"_parent\"><img src=\"https://colab.research.google.com/assets/colab-badge.svg\" alt=\"Open In Colab\"/></a>"
      ]
    },
    {
      "cell_type": "markdown",
      "metadata": {
        "id": "f2VA1IOI2z2Q"
      },
      "source": [
        "# 🤗 A Gentle Introduction to HuggingFace (HF)\n",
        "---\n",
        "HuggingFace provides you with a variety of pretrained models and\n",
        "functionalities to train/fine-tune these models and make inferences.\n",
        "\n",
        "Their [datasets](https://huggingface.co/docs/datasets/quickstart) library gives you access to many common NLP datasets. You can visualize these datasets on their [platform](https://huggingface.co/datasets) to get a sense of the data you would be working with."
      ]
    },
    {
      "cell_type": "code",
      "execution_count": 62,
      "metadata": {
        "colab": {
          "base_uri": "https://localhost:8080/"
        },
        "id": "GQ3SRO_uAvYv",
        "outputId": "bdda8b89-9ae9-4be5-ca68-40b9d434d324"
      },
      "outputs": [
        {
          "name": "stdout",
          "output_type": "stream",
          "text": [
            "Looking in indexes: https://pypi.org/simple, https://us-python.pkg.dev/colab-wheels/public/simple/\n",
            "Requirement already satisfied: datasets in /usr/local/lib/python3.9/dist-packages (2.11.0)\n",
            "Requirement already satisfied: transformers in /usr/local/lib/python3.9/dist-packages (4.27.4)\n",
            "Requirement already satisfied: pandas in /usr/local/lib/python3.9/dist-packages (from datasets) (1.4.4)\n",
            "Requirement already satisfied: dill<0.3.7,>=0.3.0 in /usr/local/lib/python3.9/dist-packages (from datasets) (0.3.6)\n",
            "Requirement already satisfied: huggingface-hub<1.0.0,>=0.11.0 in /usr/local/lib/python3.9/dist-packages (from datasets) (0.13.3)\n",
            "Requirement already satisfied: xxhash in /usr/local/lib/python3.9/dist-packages (from datasets) (3.2.0)\n",
            "Requirement already satisfied: fsspec[http]>=2021.11.1 in /usr/local/lib/python3.9/dist-packages (from datasets) (2023.3.0)\n",
            "Requirement already satisfied: requests>=2.19.0 in /usr/local/lib/python3.9/dist-packages (from datasets) (2.27.1)\n",
            "Requirement already satisfied: pyarrow>=8.0.0 in /usr/local/lib/python3.9/dist-packages (from datasets) (9.0.0)\n",
            "Requirement already satisfied: packaging in /usr/local/lib/python3.9/dist-packages (from datasets) (23.0)\n",
            "Requirement already satisfied: responses<0.19 in /usr/local/lib/python3.9/dist-packages (from datasets) (0.18.0)\n",
            "Requirement already satisfied: aiohttp in /usr/local/lib/python3.9/dist-packages (from datasets) (3.8.4)\n",
            "Requirement already satisfied: pyyaml>=5.1 in /usr/local/lib/python3.9/dist-packages (from datasets) (6.0)\n",
            "Requirement already satisfied: tqdm>=4.62.1 in /usr/local/lib/python3.9/dist-packages (from datasets) (4.65.0)\n",
            "Requirement already satisfied: numpy>=1.17 in /usr/local/lib/python3.9/dist-packages (from datasets) (1.22.4)\n",
            "Requirement already satisfied: multiprocess in /usr/local/lib/python3.9/dist-packages (from datasets) (0.70.14)\n",
            "Requirement already satisfied: filelock in /usr/local/lib/python3.9/dist-packages (from transformers) (3.10.7)\n",
            "Requirement already satisfied: regex!=2019.12.17 in /usr/local/lib/python3.9/dist-packages (from transformers) (2022.10.31)\n",
            "Requirement already satisfied: tokenizers!=0.11.3,<0.14,>=0.11.1 in /usr/local/lib/python3.9/dist-packages (from transformers) (0.13.2)\n",
            "Requirement already satisfied: aiosignal>=1.1.2 in /usr/local/lib/python3.9/dist-packages (from aiohttp->datasets) (1.3.1)\n",
            "Requirement already satisfied: charset-normalizer<4.0,>=2.0 in /usr/local/lib/python3.9/dist-packages (from aiohttp->datasets) (2.0.12)\n",
            "Requirement already satisfied: yarl<2.0,>=1.0 in /usr/local/lib/python3.9/dist-packages (from aiohttp->datasets) (1.8.2)\n",
            "Requirement already satisfied: multidict<7.0,>=4.5 in /usr/local/lib/python3.9/dist-packages (from aiohttp->datasets) (6.0.4)\n",
            "Requirement already satisfied: async-timeout<5.0,>=4.0.0a3 in /usr/local/lib/python3.9/dist-packages (from aiohttp->datasets) (4.0.2)\n",
            "Requirement already satisfied: attrs>=17.3.0 in /usr/local/lib/python3.9/dist-packages (from aiohttp->datasets) (22.2.0)\n",
            "Requirement already satisfied: frozenlist>=1.1.1 in /usr/local/lib/python3.9/dist-packages (from aiohttp->datasets) (1.3.3)\n",
            "Requirement already satisfied: typing-extensions>=3.7.4.3 in /usr/local/lib/python3.9/dist-packages (from huggingface-hub<1.0.0,>=0.11.0->datasets) (4.5.0)\n",
            "Requirement already satisfied: idna<4,>=2.5 in /usr/local/lib/python3.9/dist-packages (from requests>=2.19.0->datasets) (3.4)\n",
            "Requirement already satisfied: certifi>=2017.4.17 in /usr/local/lib/python3.9/dist-packages (from requests>=2.19.0->datasets) (2022.12.7)\n",
            "Requirement already satisfied: urllib3<1.27,>=1.21.1 in /usr/local/lib/python3.9/dist-packages (from requests>=2.19.0->datasets) (1.26.15)\n",
            "Requirement already satisfied: pytz>=2020.1 in /usr/local/lib/python3.9/dist-packages (from pandas->datasets) (2022.7.1)\n",
            "Requirement already satisfied: python-dateutil>=2.8.1 in /usr/local/lib/python3.9/dist-packages (from pandas->datasets) (2.8.2)\n",
            "Requirement already satisfied: six>=1.5 in /usr/local/lib/python3.9/dist-packages (from python-dateutil>=2.8.1->pandas->datasets) (1.16.0)\n"
          ]
        }
      ],
      "source": [
        "!pip install datasets transformers"
      ]
    },
    {
      "cell_type": "markdown",
      "metadata": {
        "id": "OV1La_Z59UiU"
      },
      "source": [
        "## 🌠 Our Goal\n",
        "Our goal for this tutorial is to get familiar with the [transformers](https://huggingface.co/docs/transformers/index) library from HuggingFace and use a pretrained model to fine-tune it on a sequece classification task. More specifically we will fine-tune a [BERT](https://arxiv.org/pdf/1810.04805.pdf) model on the [Amazon Polarity](https://huggingface.co/datasets/amazon_polarity#data-instances) dataset.\n",
        "> The Amazon reviews dataset consists of reviews from amazon. The data span a period of 18 years, including ~35 million reviews up to March 2013. Reviews include product and user information, ratings, and a plaintext review.\n",
        "\n",
        "> The Amazon reviews polarity dataset is constructed by taking review score 1 and 2 as negative, and 4 and 5 as positive. Samples of score 3 is ignored. Each class has 1,800,000 training samples and 200,000 testing samples.\n",
        "\n",
        "Since the dataset is quite large, we will be working with only a subset of this dataset throughout this tutorial.\n"
      ]
    },
    {
      "cell_type": "markdown",
      "metadata": {
        "id": "YyytVSoo9Waq"
      },
      "source": [
        "## 🪜 Main Components\n",
        "The main components we would need to develop to realize our goal are:\n",
        "\n",
        "1. Load the data and make a dataset object for this task.\n",
        "2. Write a collate function/class to tokenize/transform/truncate batches of inputs.\n",
        "3. Make a custom model, which uses a pretrained model as its backbone and it is designed for our current task at hand.\n",
        "4. Write the training loop and train the model.\n",
        "\n",
        "> ⚠️ These steps constitues the basic building blocks to solve any other problem using HF."
      ]
    },
    {
      "cell_type": "markdown",
      "metadata": {
        "id": "hvJTeNSc9OR1"
      },
      "source": [
        "## 🛒 Loading data\n",
        "In this stage we will load the data from the `datasets` library. We will only load a small subset of the original dataset here in order to reduce the training time, but feel free to run this code on the full dataset on your own time and experiment with it.\n"
      ]
    },
    {
      "cell_type": "code",
      "execution_count": 63,
      "metadata": {
        "colab": {
          "base_uri": "https://localhost:8080/"
        },
        "id": "3WI2ee9F3dft",
        "outputId": "146487ba-40de-4f33-b0ce-343538e69b8f"
      },
      "outputs": [
        {
          "name": "stderr",
          "output_type": "stream",
          "text": [
            "WARNING:datasets.builder:Found cached dataset amazon_polarity (/root/.cache/huggingface/datasets/amazon_polarity/amazon_polarity/3.0.0/a27b32b7e7b88eb274a8fa8ba0f654f1fe998a87c22547557317793b5d2772dc)\n",
            "WARNING:datasets.builder:Found cached dataset amazon_polarity (/root/.cache/huggingface/datasets/amazon_polarity/amazon_polarity/3.0.0/a27b32b7e7b88eb274a8fa8ba0f654f1fe998a87c22547557317793b5d2772dc)\n"
          ]
        }
      ],
      "source": [
        "from datasets import load_dataset\n",
        "\n",
        "dataset_train = load_dataset(\"amazon_polarity\", split=\"train[:1000]\")\n",
        "dataset_test = load_dataset(\"amazon_polarity\", split=\"test[:200]\")"
      ]
    },
    {
      "cell_type": "code",
      "execution_count": 64,
      "metadata": {
        "colab": {
          "base_uri": "https://localhost:8080/"
        },
        "id": "o9vWB3lbI3p2",
        "outputId": "be6d5004-442c-4c98-c597-59c8f17ea9a0"
      },
      "outputs": [
        {
          "name": "stdout",
          "output_type": "stream",
          "text": [
            "------------------------------\n",
            "title: Great CD\n",
            "content: My lovely Pat has one of the GREAT voices of her generation. I have listened to this CD for YEARS and I still LOVE IT. When I'm in a good mood it makes me feel better. A bad mood just evaporates like sugar in the rain. This CD just oozes LIFE. Vocals are jusat STUUNNING and lyrics just kill. One of life's hidden gems. This is a desert isle CD in my book. Why she never made it big is just beyond me. Everytime I play this, no matter black, white, young, old, male, female EVERYBODY says one thing \"Who was that singing ?\"\n",
            "label: 1\n",
            "------------------------------\n",
            "title: One of the best game music soundtracks - for a game I didn't really play\n",
            "content: Despite the fact that I have only played a small portion of the game, the music I heard (plus the connection to Chrono Trigger which was great as well) led me to purchase the soundtrack, and it remains one of my favorite albums. There is an incredible mix of fun, epic, and emotional songs. Those sad and beautiful tracks I especially like, as there's not too many of those kinds of songs in my other video game soundtracks. I must admit that one of the songs (Life-A Distant Promise) has brought tears to my eyes on many occasions.My one complaint about this soundtrack is that they use guitar fretting effects in many of the songs, which I find distracting. But even if those weren't included I would still consider the collection worth it.\n",
            "label: 1\n",
            "------------------------------\n",
            "title: Batteries died within a year ...\n",
            "content: I bought this charger in Jul 2003 and it worked OK for a while. The design is nice and convenient. However, after about a year, the batteries would not hold a charge. Might as well just get alkaline disposables, or look elsewhere for a charger that comes with batteries that have better staying power.\n",
            "label: 0\n"
          ]
        }
      ],
      "source": [
        "#@title 🔍 Quick look at the data { run: \"auto\" }\n",
        "#@markdown Lets have quick look at a few samples as well as the label distributions in our train and test set.\n",
        "n_samples_to_see = 3 #@param {type: \"integer\"}\n",
        "for i in range(n_samples_to_see):\n",
        "  print(\"-\"*30)\n",
        "  print(\"title:\", dataset_test[i][\"title\"])\n",
        "  print(\"content:\", dataset_test[i][\"content\"])\n",
        "  print(\"label:\", dataset_test[i][\"label\"])"
      ]
    },
    {
      "cell_type": "code",
      "execution_count": 65,
      "metadata": {
        "id": "lgZxAErzE6PA"
      },
      "outputs": [],
      "source": [
        "def label_stats(ds):\n",
        "    negative = 0\n",
        "    positive = 0\n",
        "    for i in range(ds.num_rows):\n",
        "        if ds[i][\"label\"] == 1:\n",
        "            positive += 1\n",
        "        else:\n",
        "            negative += 1\n",
        "    return positive, negative"
      ]
    },
    {
      "cell_type": "code",
      "execution_count": 66,
      "metadata": {
        "colab": {
          "base_uri": "https://localhost:8080/"
        },
        "id": "LIFY0vwJK5hx",
        "outputId": "13e0bcb1-8313-42e4-feb8-ea872e648b11"
      },
      "outputs": [
        {
          "name": "stdout",
          "output_type": "stream",
          "text": [
            "+-+-+-+-+-+-+-+-+-+-+-+-+-+-+-\n",
            "Set: train\n",
            "Positive samples: 462\n",
            "Negative samples: 538\n",
            "Percentage of overall positive samples: 46.2%\n",
            "+-+-+-+-+-+-+-+-+-+-+-+-+-+-+-\n",
            "Set: test\n",
            "Positive samples: 109\n",
            "Negative samples: 91\n",
            "Percentage of overall positive samples: 54.5%\n"
          ]
        }
      ],
      "source": [
        "for i, ds in enumerate([dataset_train, dataset_test]):\n",
        "    positive, negative = label_stats(ds)\n",
        "    if i == 0:\n",
        "        str_indicator = \"train\"\n",
        "    else:\n",
        "        str_indicator = \"test\"\n",
        "    print(\"+-\" * 15)\n",
        "    print(\"Set:\", str_indicator)\n",
        "    print(f\"Positive samples: {positive}\\nNegative samples: {negative}\")\n",
        "    print(f\"Percentage of overall positive samples: {(positive*100.0)/(positive+negative)}%\")"
      ]
    },
    {
      "cell_type": "markdown",
      "metadata": {
        "id": "80mbC9f8Q8au"
      },
      "source": [
        "## 🧲 Collate\n",
        "Collate is a function that is called on every batch of data prepared by the [dataloader](https://https://pytorch.org/docs/stable/data.html#torch.utils.data.DataLoader). Once we pass our dataset (e.g. `train_set`) to our dataloader, each batch will be a `list` of `dict` items. Therefore, this cannot be directed to the model. We need to perform the followings at this stage:\n"
      ]
    },
    {
      "cell_type": "markdown",
      "metadata": {
        "id": "fzxwRDQFUtaG"
      },
      "source": [
        "### 1️⃣ Tokenize the `text`\n",
        "Tokenize the `text`portion of each sample (i.e. parsing the text to smaller chuncks). Tokenization can happen in many ways, traditionally this was done based the white spaces. With transformer-based models tokenization is performed based on the frequency of occurance of \"chunk of text\". This frequence can be learnt in many different ways, however the most common one is the [**wordpiece**](https://arxiv.org/pdf/1609.08144v2.pdf) model. \n",
        "> The wordpiece model is generated using a data-driven approach to maximize the language-model likelihood\n",
        "of the training data, given an evolving word definition. Given a training corpus and a number of desired\n",
        "tokens $D$, the optimization problem is to select $D$ wordpieces such that the resulting corpus is minimal in the\n",
        "number of wordpieces when segmented according to the chosen wordpiece model.\n",
        "\n",
        "Under this model:\n",
        "1. Not all things can be converted to tokens depending on the model. For example, most models have been pretrained without any knowledge of emojis. So their token will be `[UNK]`, which stands for unknown.\n",
        "2. Some words will be mapped to multiple tokens!\n",
        "3. Depending on the kind of model, your tokens may or may not respect capitalization!"
      ]
    },
    {
      "cell_type": "code",
      "execution_count": 67,
      "metadata": {
        "id": "2Go_MrtGVR8g"
      },
      "outputs": [],
      "source": [
        "from transformers import AutoTokenizer\n",
        "\n",
        "tokenizer = AutoTokenizer.from_pretrained(\"distilbert-base-uncased\")"
      ]
    },
    {
      "cell_type": "code",
      "execution_count": 68,
      "metadata": {
        "colab": {
          "base_uri": "https://localhost:8080/"
        },
        "id": "iu_rQoerVvsu",
        "outputId": "e5126fb9-d664-4884-81e1-c64bc26f1d0f"
      },
      "outputs": [
        {
          "data": {
            "text/plain": [
              "['we',\n",
              " 'are',\n",
              " 'very',\n",
              " 'ju',\n",
              " '##bil',\n",
              " '##ant',\n",
              " 'to',\n",
              " 'demonstrate',\n",
              " 'to',\n",
              " 'you',\n",
              " 'the',\n",
              " '[UNK]',\n",
              " 'transformers',\n",
              " 'library',\n",
              " '.']"
            ]
          },
          "execution_count": 68,
          "metadata": {},
          "output_type": "execute_result"
        }
      ],
      "source": [
        "#@title 🔍 Quick look at tokenization { run: \"auto\", vertical-output: true }\n",
        "input_sample = \"We are very jubilant to demonstrate to you the 🤗 Transformers library.\" #@param {type: \"string\"}\n",
        "tokenizer.tokenize(input_sample)"
      ]
    },
    {
      "cell_type": "markdown",
      "metadata": {
        "id": "NEu6aqReXqp6"
      },
      "source": [
        "### 2️⃣ Encoding\n",
        "Once we have tokenized the text, we then need to convert these chuncks to numbers so we can feed them to our model. This conversion is basically a look-up in a dictionary **from `str` $\\to$ `int`**. The tokenizer object can also perform this work. While it does so it will also add the *special* tokens needed by the model to the encodings. "
      ]
    },
    {
      "cell_type": "code",
      "execution_count": 69,
      "metadata": {
        "colab": {
          "base_uri": "https://localhost:8080/"
        },
        "id": "EpDGccrvYKnT",
        "outputId": "ca5b52a6-a5c0-40d7-aab0-8b1b6ff413cf"
      },
      "outputs": [
        {
          "name": "stdout",
          "output_type": "stream",
          "text": [
            "--> Token Encodings:\n",
            " [101, 2057, 2024, 2200, 18414, 14454, 4630, 2000, 10580, 2000, 2017, 1996, 100, 19081, 3075, 1012, 102]\n",
            "-.-.-.-.-.-.-.-.-.-.-.-.-.-.-.\n",
            "--> Token Encodings Decoded:\n",
            " [CLS] we are very jubilant to demonstrate to you the [UNK] transformers library. [SEP]\n"
          ]
        }
      ],
      "source": [
        "#@title 🔍 Quick look at token encoding { run: \"auto\"}\n",
        "input_sample = \"We are very jubilant to demonstrate to you the 🤗 Transformers library.\" #@param {type: \"string\"}\n",
        "print(\"--> Token Encodings:\\n\",tokenizer.encode(input_sample))\n",
        "print(\"-.\"*15)\n",
        "print(\"--> Token Encodings Decoded:\\n\",tokenizer.decode(tokenizer.encode(input_sample)))"
      ]
    },
    {
      "cell_type": "markdown",
      "metadata": {
        "id": "DI8lFKZSZ2ZW"
      },
      "source": [
        "### 3️⃣ Truncate/Pad samples\n",
        "Since all the sample in the batch will not have the same sequence length, we would need to truncate the longers (i.e. the ones that exeed a predefined maximum length) and pad the shorter ones so we that we can equal length for all the samples in the batch. Once this is achieved, we would need to convert the result to `torch.Tensor`s and return. These tensors will then be retrieved from the [dataloader](https://https//pytorch.org/docs/stable/data.html#torch.utils.data.DataLoader)."
      ]
    },
    {
      "cell_type": "code",
      "execution_count": 70,
      "metadata": {
        "id": "SP31MsbHZxp5"
      },
      "outputs": [],
      "source": [
        "from typing import List, Dict, Union\n",
        "import torch\n",
        "\n",
        "\n",
        "class Collate:\n",
        "    def __init__(self, tokenizer: str, max_len: int) -> None:\n",
        "        self.tokenizer_name = tokenizer\n",
        "        self.tokenizer = AutoTokenizer.from_pretrained(self.tokenizer_name)\n",
        "        self.max_len = max_len\n",
        "\n",
        "    def __call__(self, batch: List[Dict[str, Union[str, int]]]) -> Dict[str, torch.Tensor]:\n",
        "        texts = list(map(lambda batch_instance: batch_instance[\"title\"], batch))\n",
        "        tokenized_inputs = self.tokenizer(\n",
        "            texts,\n",
        "            padding=\"longest\",\n",
        "            truncation=True,\n",
        "            max_length=self.max_len,\n",
        "            return_tensors=\"pt\",\n",
        "            return_token_type_ids=False,\n",
        "        )\n",
        "        labels = list(map(lambda batch_instance: int(batch_instance[\"label\"]), batch))\n",
        "        labels = torch.LongTensor(labels)\n",
        "        return dict(tokenized_inputs, **{\"labels\": labels})"
      ]
    },
    {
      "cell_type": "code",
      "execution_count": 71,
      "metadata": {
        "id": "4VaSpuyIjNqn"
      },
      "outputs": [],
      "source": [
        "#@title 🧑‍🍳 Setting up the collate function { run: \"auto\" }\n",
        "tokenizer_name = \"distilbert-base-uncased\" #@param {type: \"string\"}\n",
        "sample_max_length = 64 #@param {type:\"slider\", min:32, max:512, step:1}\n",
        "collate = Collate(tokenizer=\"distilbert-base-uncased\", max_len=sample_max_length)"
      ]
    },
    {
      "cell_type": "markdown",
      "metadata": {
        "id": "wG_15G_0dSyI"
      },
      "source": [
        "## 🤖 Model\n",
        "Our model needs to classify an entire sequence of text. Once we feed an input sequence of length $k$ to a language model, it will output $k$ vectors. Now the question is which of these vectors or combition of these vectors should we use to classify the sequence?\n",
        "We will use the first toke, special token `[cls]` for these purposes. *Refer to the [BERT paper](https://arxiv.org/abs/1810.04805) for more information.*\n",
        "\n",
        "Since we have 2 classes (positive, and negative), this means we would need to make a classifier on top of the vector representations of the `[cls]` token. Our custom model will then look like:"
      ]
    },
    {
      "cell_type": "code",
      "execution_count": 72,
      "metadata": {
        "id": "m3mLhXkqeopZ"
      },
      "outputs": [],
      "source": [
        "import torch\n",
        "from transformers import AutoModel\n",
        "from typing import Optional, Tuple\n",
        "\n",
        "\n",
        "class ReviewClassifier(torch.nn.Module):\n",
        "    def __init__(self, backbone: str, backbone_hidden_size: int, nb_classes: int):\n",
        "        super(ReviewClassifier, self).__init__()\n",
        "        self.backbone = backbone\n",
        "        self.backbone_hidden_size = backbone_hidden_size\n",
        "        self.nb_classes = nb_classes\n",
        "\n",
        "        self.back_bone = AutoModel.from_pretrained(\n",
        "            self.backbone,\n",
        "            output_attentions=False,\n",
        "            output_hidden_states=False,\n",
        "        )\n",
        "        self.classifier = torch.nn.Linear(self.backbone_hidden_size, self.nb_classes)\n",
        "\n",
        "    def forward(\n",
        "        self, input_ids: torch.Tensor, attention_mask: torch.Tensor, labels: Optional[torch.Tensor] = None\n",
        "    ) -> Union[torch.Tensor, Tuple[torch.Tensor, torch.Tensor]]:\n",
        "        back_bone_output = self.back_bone(input_ids, attention_mask=attention_mask)\n",
        "        hidden_states = back_bone_output[0]\n",
        "        pooled_output = hidden_states[:, 0]  # getting the [CLS] token\n",
        "\n",
        "        logits = self.classifier(pooled_output)\n",
        "        if labels is not None:\n",
        "            loss_fn = torch.nn.CrossEntropyLoss()\n",
        "            loss = loss_fn(\n",
        "                logits.view(-1, self.nb_classes),\n",
        "                labels.view(-1),\n",
        "            )\n",
        "            return loss, logits\n",
        "        return logits"
      ]
    },
    {
      "cell_type": "code",
      "execution_count": 73,
      "metadata": {
        "colab": {
          "base_uri": "https://localhost:8080/"
        },
        "id": "HP58LrWUjFt4",
        "outputId": "b07767c3-5c1a-457d-d45d-b6d3e55c9ba0"
      },
      "outputs": [
        {
          "name": "stderr",
          "output_type": "stream",
          "text": [
            "Some weights of the model checkpoint at distilbert-base-uncased were not used when initializing DistilBertModel: ['vocab_projector.weight', 'vocab_transform.bias', 'vocab_layer_norm.weight', 'vocab_transform.weight', 'vocab_projector.bias', 'vocab_layer_norm.bias']\n",
            "- This IS expected if you are initializing DistilBertModel from the checkpoint of a model trained on another task or with another architecture (e.g. initializing a BertForSequenceClassification model from a BertForPreTraining model).\n",
            "- This IS NOT expected if you are initializing DistilBertModel from the checkpoint of a model that you expect to be exactly identical (initializing a BertForSequenceClassification model from a BertForSequenceClassification model).\n"
          ]
        }
      ],
      "source": [
        "model = ReviewClassifier(backbone=\"distilbert-base-uncased\", backbone_hidden_size=768, nb_classes=2)"
      ]
    },
    {
      "cell_type": "markdown",
      "metadata": {
        "id": "RmOKVEhOemuK"
      },
      "source": [
        "## 🏓 Training Loop\n",
        "In this section we will define the training loop to trian our model. Note that these model are sensative wrt the hyperparameters and it usually takes a while to find the right hyperparameters. The default hyperparameters should work fine for our test case."
      ]
    },
    {
      "cell_type": "code",
      "execution_count": 74,
      "metadata": {
        "colab": {
          "base_uri": "https://localhost:8080/"
        },
        "id": "ZaqWfQRdmp_T",
        "outputId": "b103566e-69a7-40f5-9200-b11298b9e64c"
      },
      "outputs": [
        {
          "name": "stdout",
          "output_type": "stream",
          "text": [
            "--> Device selected: cuda\n"
          ]
        }
      ],
      "source": [
        "from tqdm.auto import tqdm\n",
        "from torch.utils.data import DataLoader\n",
        "device = torch.device('cuda' if torch.cuda.is_available() else 'cpu')\n",
        "import numpy as np\n",
        "\n",
        "print(f\"--> Device selected: {device}\")"
      ]
    },
    {
      "cell_type": "code",
      "execution_count": 75,
      "metadata": {
        "id": "hhXqq3SknGTU"
      },
      "outputs": [],
      "source": [
        "def train_one_epoch(\n",
        "    model: torch.nn.Module, training_data_loader: DataLoader, optimizer: torch.optim.Optimizer, logging_frequency: int\n",
        "):\n",
        "    model.train()\n",
        "    optimizer.zero_grad()\n",
        "    epoch_loss = 0\n",
        "    logging_loss = 0\n",
        "    for step, batch in enumerate(training_data_loader):\n",
        "        batch = {key: value.to(device) for key, value in batch.items()}\n",
        "        outputs = model(**batch)\n",
        "        loss = outputs[0]\n",
        "        loss.backward()\n",
        "        optimizer.step()\n",
        "\n",
        "        epoch_loss += loss.item()\n",
        "        logging_loss += loss.item()\n",
        "\n",
        "        if (step + 1) % logging_frequency == 0:\n",
        "            print(f\"Training loss @ step {step+1}: {logging_loss/logging_frequency}\")\n",
        "            logging_loss = 0\n",
        "\n",
        "    return epoch_loss / len(training_data_loader)\n",
        "\n",
        "\n",
        "def evaluate(model: torch.nn.Module, test_data_loader: DataLoader, nb_classes: int):\n",
        "    model.eval()\n",
        "    model.to(device)\n",
        "    eval_loss = 0\n",
        "    correct_predictions = {i: 0 for i in range(nb_classes)}\n",
        "    total_predictions = {i: 0 for i in range(nb_classes)}\n",
        "\n",
        "    with torch.no_grad():\n",
        "        for step, batch in enumerate(test_data_loader):\n",
        "            batch = {key: value.to(device) for key, value in batch.items()}\n",
        "            outputs = model(**batch)\n",
        "            loss = outputs[0]\n",
        "            eval_loss += loss.item()\n",
        "\n",
        "            predictions = np.argmax(outputs[1].detach().cpu().numpy(), axis=1)\n",
        "            for target, prediction in zip(batch[\"labels\"].cpu().numpy(), predictions):\n",
        "                if target == prediction:\n",
        "                    correct_predictions[target] += 1\n",
        "                total_predictions[target] += 1\n",
        "\n",
        "    accuracy = (100.0 * sum(correct_predictions.values())) / sum(total_predictions.values())\n",
        "    return accuracy, eval_loss / len(test_data_loader)"
      ]
    },
    {
      "cell_type": "code",
      "execution_count": 76,
      "metadata": {
        "id": "muLjnpSpvXOx"
      },
      "outputs": [],
      "source": [
        "#@title 🧑‍🍳 Setting hyperparameters for training { run: \"auto\" }\n",
        "nb_epoch = 3 #@param {type: \"slider\", min:1, max:10, step:1}\n",
        "batch_size = 64 #@param {type: \"integer\"}\n",
        "logging_frequency = 5 #@param {type: \"integer\"}\n",
        "learning_rate = 1e-5 #@param {type: \"number\"}\n",
        "\n",
        "train_loader = DataLoader(dataset_train, batch_size=batch_size, shuffle=True, collate_fn=collate)\n",
        "test_loader = DataLoader(dataset_test, batch_size=batch_size, shuffle=False, collate_fn=collate)\n",
        "\n",
        "# setting up the optimizer\n",
        "no_decay = [\"bias\", \"LayerNorm.weight\"]\n",
        "optimizer_grouped_parameters = [\n",
        "    {\n",
        "        \"params\": [p for n, p in model.named_parameters() if not any(nd in n for nd in no_decay)],\n",
        "        \"weight_decay\": 0.0,\n",
        "    },\n",
        "    {\n",
        "        \"params\": [p for n, p in model.named_parameters() if any(nd in n for nd in no_decay)],\n",
        "        \"weight_decay\": 0.0,\n",
        "    },\n",
        "]\n",
        "\n",
        "optimizer = torch.optim.AdamW(optimizer_grouped_parameters, lr=learning_rate, eps=1e-8)\n"
      ]
    },
    {
      "cell_type": "code",
      "execution_count": 77,
      "metadata": {
        "colab": {
          "base_uri": "https://localhost:8080/",
          "height": 263,
          "referenced_widgets": [
            "31f820f4c02544499820891a329b0a60",
            "ea327191c5f1439ca1e5ec7f0ebb3565",
            "b179276d10a6459a8b3d5fa97c49a852",
            "2d4aeabe408a4456b02e83c2c4330e18",
            "d0590855f9024412a2c088f392c430ea",
            "cfabc25e61bb43cc9abbc4121cc6fbbd",
            "9395d5ee856c41ff9e80b897681db6b1",
            "3093291e773540e6bc2ae7375468e9b0",
            "cc1d63dbc51c416aa6324c535ef30cf7",
            "94c7217b1ca04e60906281581db7bac6",
            "dad8bdfb4d6041d3a9bf402a25f7bd98"
          ]
        },
        "id": "RQhas_JxwVHS",
        "outputId": "6c07874f-5c03-4f90-f494-33719035e9a9"
      },
      "outputs": [
        {
          "data": {
            "application/vnd.jupyter.widget-view+json": {
              "model_id": "31f820f4c02544499820891a329b0a60",
              "version_major": 2,
              "version_minor": 0
            },
            "text/plain": [
              "Epoch:   0%|          | 0/3 [00:00<?, ?it/s]"
            ]
          },
          "metadata": {},
          "output_type": "display_data"
        },
        {
          "name": "stdout",
          "output_type": "stream",
          "text": [
            "Training loss @ step 5: 0.7063361644744873\n",
            "Training loss @ step 10: 0.70822833776474\n",
            "Training loss @ step 15: 0.6952305674552918\n",
            "    Epoch: 1 Loss/Test: 0.6560837924480438, Loss/Test: 0.6994565576314926, Acc/Test: 67.5\n",
            "Training loss @ step 5: 0.6405472040176392\n",
            "Training loss @ step 10: 0.6031859159469605\n",
            "Training loss @ step 15: 0.5732704758644104\n",
            "    Epoch: 2 Loss/Test: 0.5556094497442245, Loss/Test: 0.6021909974515438, Acc/Test: 77.5\n",
            "Training loss @ step 5: 0.4826825261116028\n",
            "Training loss @ step 10: 0.4314260184764862\n",
            "Training loss @ step 15: 0.4189888656139374\n",
            "    Epoch: 3 Loss/Test: 0.5207142978906631, Loss/Test: 0.4422369506210089, Acc/Test: 71.0\n"
          ]
        }
      ],
      "source": [
        "model.to(device)\n",
        "\n",
        "train_bar = tqdm(range(nb_epoch), desc=\"Epoch\")\n",
        "for e in train_bar:\n",
        "    train_loss = train_one_epoch(model, train_loader, optimizer, logging_frequency)\n",
        "    eval_acc, eval_loss  = evaluate(model, test_loader, 2)\n",
        "    print(f\"    Epoch: {e+1} Loss/Test: {eval_loss}, Loss/Test: {train_loss}, Acc/Test: {eval_acc}\")\n",
        "    train_bar.set_postfix({\"Loss/Train\": train_loss, \"Loss/Test\": eval_loss, \"Acc/Test\": eval_acc})"
      ]
    },
    {
      "cell_type": "markdown",
      "metadata": {
        "id": "dyS-iVJJAskF"
      },
      "source": [
        "# 🗃️ Exercises\n",
        "It is suggested that you have look over the `tokenizer` class and its functionalities before attempting the exercises."
      ]
    },
    {
      "cell_type": "markdown",
      "metadata": {
        "id": "Zs4e1wmqBmGI"
      },
      "source": [
        "## 1️⃣ Predict with more context\n",
        "In the above training we only took advantage of the `title` of each review to predict its polarity.\n",
        "1. Investigate whether it would be useful to instead use the `content` of each review?\n",
        "2. Further investigate if it would be usefult to have both the `title` and `content` presented to model during training?"
      ]
    },
    {
      "cell_type": "code",
      "execution_count": 78,
      "metadata": {
        "colab": {
          "base_uri": "https://localhost:8080/",
          "height": 337,
          "referenced_widgets": [
            "d313c17ffba64e5f9b3cd74589e6974b",
            "230a816454cf48e7ad9c5b37ca1066a6",
            "ff27eb06f11e4c5b8727c4e77d43dbe6",
            "d5bfeeae172b4e1b959ef0eb1f7b9202",
            "23873ebce0324a048cfb59661ff21f85",
            "6a54dfd403a04328a8b56be77a1cf8bf",
            "69f1d1c22fae4ba1b0cf1fa9e46b6176",
            "3be4acc41f084ffa89b94f9994b64cd1",
            "ed23c8b21fd3468dbe12b7376e774c03",
            "ba8c30fa578647b8a647291c8bd66ad6",
            "219b4bae75be4627902015bfa2440126"
          ]
        },
        "id": "KSHUFRX_fslv",
        "outputId": "b84eb048-3552-4cd6-dc91-94079046fff5"
      },
      "outputs": [
        {
          "name": "stderr",
          "output_type": "stream",
          "text": [
            "Some weights of the model checkpoint at distilbert-base-uncased were not used when initializing DistilBertModel: ['vocab_projector.weight', 'vocab_transform.bias', 'vocab_layer_norm.weight', 'vocab_transform.weight', 'vocab_projector.bias', 'vocab_layer_norm.bias']\n",
            "- This IS expected if you are initializing DistilBertModel from the checkpoint of a model trained on another task or with another architecture (e.g. initializing a BertForSequenceClassification model from a BertForPreTraining model).\n",
            "- This IS NOT expected if you are initializing DistilBertModel from the checkpoint of a model that you expect to be exactly identical (initializing a BertForSequenceClassification model from a BertForSequenceClassification model).\n"
          ]
        },
        {
          "data": {
            "application/vnd.jupyter.widget-view+json": {
              "model_id": "d313c17ffba64e5f9b3cd74589e6974b",
              "version_major": 2,
              "version_minor": 0
            },
            "text/plain": [
              "Epoch:   0%|          | 0/3 [00:00<?, ?it/s]"
            ]
          },
          "metadata": {},
          "output_type": "display_data"
        },
        {
          "name": "stdout",
          "output_type": "stream",
          "text": [
            "Training loss @ step 5: 0.7042463064193726\n",
            "Training loss @ step 10: 0.6884832143783569\n",
            "Training loss @ step 15: 0.6704005122184753\n",
            "    Epoch: 1 Loss/Test: 0.6573537141084671, Loss/Test: 0.6850832067430019, Acc/Test: 65.5\n",
            "Training loss @ step 5: 0.6416653990745544\n",
            "Training loss @ step 10: 0.5924084663391114\n",
            "Training loss @ step 15: 0.5557694673538208\n",
            "    Epoch: 2 Loss/Test: 0.5943339020013809, Loss/Test: 0.5910059176385403, Acc/Test: 70.5\n",
            "Training loss @ step 5: 0.6033878207206727\n",
            "Training loss @ step 10: 0.4367173135280609\n",
            "Training loss @ step 15: 0.8465508401393891\n",
            "    Epoch: 3 Loss/Test: 1.4179713726043701, Loss/Test: 0.6803175583481789, Acc/Test: 46.5\n"
          ]
        }
      ],
      "source": [
        "model = ReviewClassifier(backbone=\"distilbert-base-uncased\", backbone_hidden_size=768, nb_classes=2)\n",
        "class Collate_content:\n",
        "    def __init__(self, tokenizer: str, max_len: int) -> None:\n",
        "        self.tokenizer_name = tokenizer\n",
        "        self.tokenizer = AutoTokenizer.from_pretrained(self.tokenizer_name)\n",
        "        self.max_len = max_len\n",
        "\n",
        "    def __call__(self, batch: List[Dict[str, Union[str, int]]]) -> Dict[str, torch.Tensor]:\n",
        "        texts = list(map(lambda batch_instance: batch_instance[\"content\"], batch))\n",
        "        tokenized_inputs = self.tokenizer(\n",
        "            texts,\n",
        "            padding=\"longest\",\n",
        "            truncation=True,\n",
        "            max_length=self.max_len,\n",
        "            return_tensors=\"pt\",\n",
        "            return_token_type_ids=False,\n",
        "        )\n",
        "        labels = list(map(lambda batch_instance: int(batch_instance[\"label\"]), batch))\n",
        "        labels = torch.LongTensor(labels)\n",
        "        return dict(tokenized_inputs, **{\"labels\": labels})\n",
        "\n",
        "current_collate = Collate_content(tokenizer=\"distilbert-base-uncased\", max_len=sample_max_length)\n",
        "\n",
        "#@title 🧑‍🍳 Use only Content { run: \"auto\" }\n",
        "nb_epoch = 3 #@param {type: \"slider\", min:1, max:10, step:1}\n",
        "batch_size = 64 #@param {type: \"integer\"}\n",
        "logging_frequency = 5 #@param {type: \"integer\"}\n",
        "learning_rate = 1e-5 #@param {type: \"number\"}\n",
        "\n",
        "train_loader = DataLoader(dataset_train, batch_size=batch_size, shuffle=True, collate_fn=current_collate)\n",
        "test_loader = DataLoader(dataset_test, batch_size=batch_size, shuffle=False, collate_fn=current_collate)\n",
        "\n",
        "# setting up the optimizer\n",
        "no_decay = [\"bias\", \"LayerNorm.weight\"]\n",
        "optimizer_grouped_parameters = [\n",
        "      {\n",
        "          \"params\": [p for n, p in model.named_parameters() if not any(nd in n for nd in no_decay)],\n",
        "          \"weight_decay\": 0.0,\n",
        "      },\n",
        "      {\n",
        "          \"params\": [p for n, p in model.named_parameters() if any(nd in n for nd in no_decay)],\n",
        "          \"weight_decay\": 0.0,\n",
        "      },\n",
        "  ]\n",
        "\n",
        "optimizer = torch.optim.AdamW(optimizer_grouped_parameters, lr=learning_rate, eps=1e-8)\n",
        "\n",
        "\n",
        "model.to(device)\n",
        "\n",
        "train_bar = tqdm(range(nb_epoch), desc=\"Epoch\")\n",
        "for e in train_bar:\n",
        "    train_loss = train_one_epoch(model, train_loader, optimizer, logging_frequency)\n",
        "    eval_acc, eval_loss  = evaluate(model, test_loader, 2)\n",
        "    print(f\"    Epoch: {e+1} Loss/Test: {eval_loss}, Loss/Test: {train_loss}, Acc/Test: {eval_acc}\")\n",
        "    train_bar.set_postfix({\"Loss/Train\": train_loss, \"Loss/Test\": eval_loss, \"Acc/Test\": eval_acc})\n",
        "\n"
      ]
    },
    {
      "cell_type": "markdown",
      "metadata": {
        "id": "K7_8cl8WkhM_"
      },
      "source": [
        "**So it is not that useful to use only the content of each review.**"
      ]
    },
    {
      "cell_type": "code",
      "execution_count": 79,
      "metadata": {
        "colab": {
          "base_uri": "https://localhost:8080/",
          "height": 337,
          "referenced_widgets": [
            "e4c88116e6164798bb749e0158e11bd4",
            "9242e983aad44002a5961b958daad15b",
            "5177979bce85465fb8bf37ca3d9ef590",
            "aff8305e78404e2ea981d409ae75b9bc",
            "b3d38fca109d446c8b874a5822c9122d",
            "4cca0c818fa04c57ac15f5436aa93e6f",
            "5a3d866646eb46efae18af830c142cb7",
            "bcfea3d013314c1cbeb37f3777fb5cfb",
            "a8707f81d7264962bbc16ba749151615",
            "e628c89e893a4bc1a97ebb3e94fbeb80",
            "903ef6964f894f2c93462231f9dd9ef9"
          ]
        },
        "id": "gNJARI43lBUE",
        "outputId": "34c370ae-484c-4337-d0ce-b2872eac1d62"
      },
      "outputs": [
        {
          "name": "stderr",
          "output_type": "stream",
          "text": [
            "Some weights of the model checkpoint at distilbert-base-uncased were not used when initializing DistilBertModel: ['vocab_projector.weight', 'vocab_transform.bias', 'vocab_layer_norm.weight', 'vocab_transform.weight', 'vocab_projector.bias', 'vocab_layer_norm.bias']\n",
            "- This IS expected if you are initializing DistilBertModel from the checkpoint of a model trained on another task or with another architecture (e.g. initializing a BertForSequenceClassification model from a BertForPreTraining model).\n",
            "- This IS NOT expected if you are initializing DistilBertModel from the checkpoint of a model that you expect to be exactly identical (initializing a BertForSequenceClassification model from a BertForSequenceClassification model).\n"
          ]
        },
        {
          "data": {
            "application/vnd.jupyter.widget-view+json": {
              "model_id": "e4c88116e6164798bb749e0158e11bd4",
              "version_major": 2,
              "version_minor": 0
            },
            "text/plain": [
              "Epoch:   0%|          | 0/3 [00:00<?, ?it/s]"
            ]
          },
          "metadata": {},
          "output_type": "display_data"
        },
        {
          "name": "stdout",
          "output_type": "stream",
          "text": [
            "Training loss @ step 5: 0.7020013928413391\n",
            "Training loss @ step 10: 0.6723769307136536\n",
            "Training loss @ step 15: 0.6493452787399292\n",
            "    Epoch: 1 Loss/Test: 0.6319452524185181, Loss/Test: 0.6724485829472542, Acc/Test: 63.5\n",
            "Training loss @ step 5: 0.6117583513259888\n",
            "Training loss @ step 10: 0.545013678073883\n",
            "Training loss @ step 15: 0.5055689811706543\n",
            "    Epoch: 2 Loss/Test: 0.6225843876600266, Loss/Test: 0.5558517202734947, Acc/Test: 62.5\n",
            "Training loss @ step 5: 0.45966126322746276\n",
            "Training loss @ step 10: 0.4659955441951752\n",
            "Training loss @ step 15: 0.8756790161132812\n",
            "    Epoch: 3 Loss/Test: 0.38495729118585587, Loss/Test: 0.5923217069357634, Acc/Test: 84.0\n"
          ]
        }
      ],
      "source": [
        "model = ReviewClassifier(backbone=\"distilbert-base-uncased\", backbone_hidden_size=768, nb_classes=2)\n",
        "class Collate_content_and_title:\n",
        "    def __init__(self, tokenizer: str, max_len: int) -> None:\n",
        "        self.tokenizer_name = tokenizer\n",
        "        self.tokenizer = AutoTokenizer.from_pretrained(self.tokenizer_name)\n",
        "        self.max_len = max_len\n",
        "\n",
        "    def __call__(self, batch: List[Dict[str, Union[str, int]]]) -> Dict[str, torch.Tensor]:\n",
        "        titles = list(map(lambda batch_instance: batch_instance[\"title\"], batch))\n",
        "        contents = list(map(lambda batch_instance: batch_instance[\"content\"], batch))\n",
        "        texts = [title + \" \" + content for title, content in zip(titles, contents)]\n",
        "        tokenized_inputs = self.tokenizer(\n",
        "            texts,\n",
        "            padding=\"longest\",\n",
        "            truncation=True,\n",
        "            max_length=self.max_len,\n",
        "            return_tensors=\"pt\",\n",
        "            return_token_type_ids=False,\n",
        "        )\n",
        "        labels = list(map(lambda batch_instance: int(batch_instance[\"label\"]), batch))\n",
        "        labels = torch.LongTensor(labels)\n",
        "        return dict(tokenized_inputs, **{\"labels\": labels})\n",
        "\n",
        "current_collate_candt = Collate_content_and_title(tokenizer=\"distilbert-base-uncased\", max_len=sample_max_length)\n",
        "\n",
        "#@title 🧑‍🍳 Use Title+ Content { run: \"auto\" }\n",
        "nb_epoch = 3 #@param {type: \"slider\", min:1, max:10, step:1}\n",
        "batch_size = 64 #@param {type: \"integer\"}\n",
        "logging_frequency = 5 #@param {type: \"integer\"}\n",
        "learning_rate = 1e-5 #@param {type: \"number\"}\n",
        "\n",
        "train_loader = DataLoader(dataset_train, batch_size=batch_size, shuffle=True, collate_fn=current_collate_candt)\n",
        "test_loader = DataLoader(dataset_test, batch_size=batch_size, shuffle=False, collate_fn=current_collate_candt)\n",
        "\n",
        "# setting up the optimizer\n",
        "no_decay = [\"bias\", \"LayerNorm.weight\"]\n",
        "optimizer_grouped_parameters = [\n",
        "      {\n",
        "          \"params\": [p for n, p in model.named_parameters() if not any(nd in n for nd in no_decay)],\n",
        "          \"weight_decay\": 0.0,\n",
        "      },\n",
        "      {\n",
        "          \"params\": [p for n, p in model.named_parameters() if any(nd in n for nd in no_decay)],\n",
        "          \"weight_decay\": 0.0,\n",
        "      },\n",
        "  ]\n",
        "\n",
        "optimizer = torch.optim.AdamW(optimizer_grouped_parameters, lr=learning_rate, eps=1e-8)\n",
        "\n",
        "\n",
        "model.to(device)\n",
        "\n",
        "train_bar = tqdm(range(nb_epoch), desc=\"Epoch\")\n",
        "for e in train_bar:\n",
        "    train_loss = train_one_epoch(model, train_loader, optimizer, logging_frequency)\n",
        "    eval_acc, eval_loss  = evaluate(model, test_loader, 2)\n",
        "    print(f\"    Epoch: {e+1} Loss/Test: {eval_loss}, Loss/Test: {train_loss}, Acc/Test: {eval_acc}\")\n",
        "    train_bar.set_postfix({\"Loss/Train\": train_loss, \"Loss/Test\": eval_loss, \"Acc/Test\": eval_acc})\n",
        "\n"
      ]
    },
    {
      "cell_type": "markdown",
      "metadata": {
        "id": "D6159A5-l7pM"
      },
      "source": [
        "**But if we are using both content and title, the result is indeed better.**"
      ]
    },
    {
      "cell_type": "markdown",
      "metadata": {
        "id": "5UdJVpMfDo1X"
      },
      "source": [
        "## 2️⃣ Frozen representations\n",
        "Modify the backbone so that we would only train the classifier layer, and the backbone stays frozen. How does the results compare to the unfrozen version?"
      ]
    },
    {
      "cell_type": "code",
      "execution_count": 95,
      "metadata": {
        "colab": {
          "base_uri": "https://localhost:8080/",
          "height": 337,
          "referenced_widgets": [
            "e9eddc414de74de28bcd352490e49f73",
            "5574f05b274b43a4ac9198239bbef20a",
            "80eb6e109a7f49449f6648f7c27882a7",
            "7d659366d37b4bd59d265e33b2c1bd30",
            "7123fa9dd36b450f888f8179a1eef8b6",
            "74fe89bfc6f0468d92bb011a7b480e4e",
            "b923d403cd434c59b6751a011a5aed13",
            "b10fa1e7227040dda3350d3ca4bbc606",
            "b0e0917c000f43d39c92413c3f4945a6",
            "8c06a18ea59b425799ac0753fadc0891",
            "d5e0eee2a08e44d697fce6f8e916149f"
          ]
        },
        "id": "euCsRufhm6vv",
        "outputId": "6fb29658-4a99-4211-cad2-3b52cbe750da"
      },
      "outputs": [
        {
          "name": "stderr",
          "output_type": "stream",
          "text": [
            "Some weights of the model checkpoint at distilbert-base-uncased were not used when initializing DistilBertModel: ['vocab_projector.weight', 'vocab_transform.bias', 'vocab_layer_norm.weight', 'vocab_transform.weight', 'vocab_projector.bias', 'vocab_layer_norm.bias']\n",
            "- This IS expected if you are initializing DistilBertModel from the checkpoint of a model trained on another task or with another architecture (e.g. initializing a BertForSequenceClassification model from a BertForPreTraining model).\n",
            "- This IS NOT expected if you are initializing DistilBertModel from the checkpoint of a model that you expect to be exactly identical (initializing a BertForSequenceClassification model from a BertForSequenceClassification model).\n"
          ]
        },
        {
          "data": {
            "application/vnd.jupyter.widget-view+json": {
              "model_id": "e9eddc414de74de28bcd352490e49f73",
              "version_major": 2,
              "version_minor": 0
            },
            "text/plain": [
              "Epoch:   0%|          | 0/3 [00:00<?, ?it/s]"
            ]
          },
          "metadata": {},
          "output_type": "display_data"
        },
        {
          "name": "stdout",
          "output_type": "stream",
          "text": [
            "Training loss @ step 5: 0.7004940629005432\n",
            "Training loss @ step 10: 0.7084245204925537\n",
            "Training loss @ step 15: 0.7015885233879089\n",
            "    Epoch: 1 Loss/Test: 0.6878619194030762, Loss/Test: 0.7028164491057396, Acc/Test: 54.0\n",
            "Training loss @ step 5: 0.6953300833702087\n",
            "Training loss @ step 10: 0.6973816514015198\n",
            "Training loss @ step 15: 0.6932207345962524\n",
            "    Epoch: 2 Loss/Test: 0.6867895424365997, Loss/Test: 0.6953100487589836, Acc/Test: 57.0\n",
            "Training loss @ step 5: 0.6956471920013427\n",
            "Training loss @ step 10: 0.6902302026748657\n",
            "Training loss @ step 15: 0.6860473394393921\n",
            "    Epoch: 3 Loss/Test: 0.6858240962028503, Loss/Test: 0.6900477260351181, Acc/Test: 59.5\n"
          ]
        }
      ],
      "source": [
        "class FrozenReviewClassifier(torch.nn.Module):\n",
        "    def __init__(self, backbone: str, backbone_hidden_size: int, nb_classes: int):\n",
        "        super(FrozenReviewClassifier, self).__init__()\n",
        "        self.backbone = backbone\n",
        "        self.backbone_hidden_size = backbone_hidden_size\n",
        "        self.nb_classes = nb_classes\n",
        "\n",
        "        self.back_bone = AutoModel.from_pretrained(\n",
        "            self.backbone,\n",
        "            output_attentions=False,\n",
        "            output_hidden_states=False,\n",
        "        )\n",
        "\n",
        "        self.classifier = torch.nn.Linear(self.backbone_hidden_size, self.nb_classes)\n",
        "\n",
        "    def forward(\n",
        "        self, input_ids: torch.Tensor, attention_mask: torch.Tensor, labels: Optional[torch.Tensor] = None\n",
        "    ) -> Union[torch.Tensor, Tuple[torch.Tensor, torch.Tensor]]:\n",
        "        back_bone_output = self.back_bone(input_ids, attention_mask=attention_mask)\n",
        "        hidden_states = back_bone_output[0]\n",
        "        pooled_output = hidden_states[:, 0]  # getting the [CLS] token\n",
        "\n",
        "        logits = self.classifier(pooled_output)\n",
        "        if labels is not None:\n",
        "            loss_fn = torch.nn.CrossEntropyLoss()\n",
        "            loss = loss_fn(\n",
        "                logits.view(-1, self.nb_classes),\n",
        "                labels.view(-1),\n",
        "            )\n",
        "            return loss, logits\n",
        "        return logits\n",
        "\n",
        "            \n",
        "    def freeze_backbone(self):\n",
        "        for param in self.back_bone.parameters():\n",
        "            param.requires_grad = False\n",
        "\n",
        "    def unfreeze_backbone(self):\n",
        "        for param in self.back_bone.parameters():\n",
        "            param.requires_grad = True\n",
        "\n",
        "\n",
        "model = FrozenReviewClassifier(backbone=\"distilbert-base-uncased\", backbone_hidden_size=768, nb_classes=2)\n",
        "\n",
        "model.freeze_backbone()\n",
        "\n",
        "frozen_collate = Collate(tokenizer=\"distilbert-base-uncased\", max_len=sample_max_length)\n",
        "\n",
        "#@title 🧑‍🍳 Use Frozen backbone { run: \"auto\" }\n",
        "nb_epoch = 3 #@param {type: \"slider\", min:1, max:10, step:1}\n",
        "batch_size = 64 #@param {type: \"integer\"}\n",
        "logging_frequency = 5 #@param {type: \"integer\"}\n",
        "learning_rate = 1e-5 #@param {type: \"number\"}\n",
        "\n",
        "train_loader = DataLoader(dataset_train, batch_size=batch_size, shuffle=True, collate_fn=frozen_collate)\n",
        "test_loader = DataLoader(dataset_test, batch_size=batch_size, shuffle=False, collate_fn=frozen_collate)\n",
        "\n",
        "# setting up the optimizer\n",
        "no_decay = [\"bias\", \"LayerNorm.weight\"]\n",
        "optimizer_grouped_parameters = [\n",
        "      {\n",
        "          \"params\": [p for n, p in model.named_parameters() if not any(nd in n for nd in no_decay)],\n",
        "          \"weight_decay\": 0.0,\n",
        "      },\n",
        "      {\n",
        "          \"params\": [p for n, p in model.named_parameters() if any(nd in n for nd in no_decay)],\n",
        "          \"weight_decay\": 0.0,\n",
        "      },\n",
        "  ]\n",
        "\n",
        "optimizer = torch.optim.AdamW(optimizer_grouped_parameters, lr=learning_rate, eps=1e-8)\n",
        "\n",
        "\n",
        "model.to(device)\n",
        "\n",
        "train_bar = tqdm(range(nb_epoch), desc=\"Epoch\")\n",
        "for e in train_bar:\n",
        "    train_loss = train_one_epoch(model, train_loader, optimizer, logging_frequency)\n",
        "    eval_acc, eval_loss  = evaluate(model, test_loader, 2)\n",
        "    print(f\"    Epoch: {e+1} Loss/Test: {eval_loss}, Loss/Test: {train_loss}, Acc/Test: {eval_acc}\")\n",
        "    train_bar.set_postfix({\"Loss/Train\": train_loss, \"Loss/Test\": eval_loss, \"Acc/Test\": eval_acc})\n",
        "\n"
      ]
    },
    {
      "cell_type": "markdown",
      "metadata": {
        "id": "BYKDlRrsrPle"
      },
      "source": [
        "**If we freeze the bacbone, the result is worse. This might because of the pre-trained backbone model is not well-suited for the task. We can also see the accuracy doesn't improve too much over epochs.**"
      ]
    },
    {
      "cell_type": "markdown",
      "metadata": {
        "id": "LBXdWeRSD_ez"
      },
      "source": [
        "## 3️⃣ (Optional) Freeze then unfreeze\n",
        "It has empirically been shown that freezing the backbone for the first few steps of training and then unfreezing it produces better performing models. Modify the training code to have this option for training. "
      ]
    },
    {
      "cell_type": "code",
      "execution_count": 100,
      "metadata": {
        "colab": {
          "base_uri": "https://localhost:8080/",
          "height": 337,
          "referenced_widgets": [
            "cb3270b1b33f4a09bf0bd629e022b50f",
            "f0995a3b260340808e11e61bf33e2925",
            "a2e3d3b72f9c45b5b9b421f60a8c1126",
            "6d3e703fe4744d95b554c42faa0b37f1",
            "2cd6225868c34dd0adf3f92bba74cab1",
            "9711d3d5881d44d498f2c085ae90d095",
            "1630d050ca0c4331856ffcb268d7901a",
            "161140a178934197a7b130d781c15dfe",
            "65a072d8139047a080cd52487ac922f0",
            "b399d017987441d38fc6f476bec10eee",
            "c0635ba3f21840bf9b2d911a1b1845e9"
          ]
        },
        "id": "sKgjLEidn1RR",
        "outputId": "2399ef1a-d9f5-4b9d-c224-ae7cae49c709"
      },
      "outputs": [
        {
          "name": "stderr",
          "output_type": "stream",
          "text": [
            "Some weights of the model checkpoint at distilbert-base-uncased were not used when initializing DistilBertModel: ['vocab_projector.weight', 'vocab_transform.bias', 'vocab_layer_norm.weight', 'vocab_transform.weight', 'vocab_projector.bias', 'vocab_layer_norm.bias']\n",
            "- This IS expected if you are initializing DistilBertModel from the checkpoint of a model trained on another task or with another architecture (e.g. initializing a BertForSequenceClassification model from a BertForPreTraining model).\n",
            "- This IS NOT expected if you are initializing DistilBertModel from the checkpoint of a model that you expect to be exactly identical (initializing a BertForSequenceClassification model from a BertForSequenceClassification model).\n"
          ]
        },
        {
          "data": {
            "application/vnd.jupyter.widget-view+json": {
              "model_id": "cb3270b1b33f4a09bf0bd629e022b50f",
              "version_major": 2,
              "version_minor": 0
            },
            "text/plain": [
              "Epoch:   0%|          | 0/3 [00:00<?, ?it/s]"
            ]
          },
          "metadata": {},
          "output_type": "display_data"
        },
        {
          "name": "stdout",
          "output_type": "stream",
          "text": [
            "Training loss @ step 5: 0.7062148451805115\n",
            "Training loss @ step 10: 0.705574095249176\n",
            "Training loss @ step 15: 0.6757287502288818\n",
            "    Epoch: 1 Loss/Test: 0.6580210328102112, Loss/Test: 0.6936963759362698, Acc/Test: 69.5\n",
            "Training loss @ step 5: 0.658850371837616\n",
            "Training loss @ step 10: 0.6193810224533081\n",
            "Training loss @ step 15: 0.5822450637817382\n",
            "    Epoch: 2 Loss/Test: 0.5309212058782578, Loss/Test: 0.6145724877715111, Acc/Test: 78.5\n",
            "Training loss @ step 5: 0.4846816956996918\n",
            "Training loss @ step 10: 0.43681393265724183\n",
            "Training loss @ step 15: 0.41208499670028687\n",
            "    Epoch: 3 Loss/Test: 0.3740512579679489, Loss/Test: 0.439826812595129, Acc/Test: 83.5\n"
          ]
        }
      ],
      "source": [
        "model = FrozenReviewClassifier(backbone=\"distilbert-base-uncased\", backbone_hidden_size=768, nb_classes=2)\n",
        "\n",
        "model.freeze_backbone()\n",
        "frozen_backbone_steps = 5\n",
        "\n",
        "half_frozen_collate = Collate(tokenizer=\"distilbert-base-uncased\", max_len=sample_max_length)\n",
        "\n",
        "#@title 🧑‍🍳 Use half-Frozen backbone { run: \"auto\" }\n",
        "nb_epoch = 3 #@param {type: \"slider\", min:1, max:10, step:1}\n",
        "batch_size = 64 #@param {type: \"integer\"}\n",
        "logging_frequency = 5 #@param {type: \"integer\"}\n",
        "learning_rate = 1e-5 #@param {type: \"number\"}\n",
        "\n",
        "train_loader = DataLoader(dataset_train, batch_size=batch_size, shuffle=True, collate_fn=half_frozen_collate)\n",
        "test_loader = DataLoader(dataset_test, batch_size=batch_size, shuffle=False, collate_fn=half_frozen_collate)\n",
        "\n",
        "# setting up the optimizer\n",
        "no_decay = [\"bias\", \"LayerNorm.weight\"]\n",
        "optimizer_grouped_parameters = [\n",
        "      {\n",
        "          \"params\": [p for n, p in model.named_parameters() if not any(nd in n for nd in no_decay)],\n",
        "          \"weight_decay\": 0.0,\n",
        "      },\n",
        "      {\n",
        "          \"params\": [p for n, p in model.named_parameters() if any(nd in n for nd in no_decay)],\n",
        "          \"weight_decay\": 0.0,\n",
        "      },\n",
        "  ]\n",
        "\n",
        "optimizer = torch.optim.AdamW(optimizer_grouped_parameters, lr=learning_rate, eps=1e-8)\n",
        "\n",
        "def train_one_epoch_half_frozen(\n",
        "    model: torch.nn.Module, training_data_loader: DataLoader, optimizer: torch.optim.Optimizer, logging_frequency: int, unfrozen_step:int\n",
        "):\n",
        "    model.train()\n",
        "    optimizer.zero_grad()\n",
        "    epoch_loss = 0\n",
        "    logging_loss = 0\n",
        "    for step, batch in enumerate(training_data_loader):\n",
        "        batch = {key: value.to(device) for key, value in batch.items()}\n",
        "        outputs = model(**batch)\n",
        "        loss = outputs[0]\n",
        "        loss.backward()\n",
        "        optimizer.step()\n",
        "\n",
        "        epoch_loss += loss.item()\n",
        "        logging_loss += loss.item()\n",
        "\n",
        "        if (step == unfrozen_step):\n",
        "            model.unfreeze_backbone()\n",
        "            \n",
        "        if (step + 1) % logging_frequency == 0:\n",
        "            print(f\"Training loss @ step {step+1}: {logging_loss/logging_frequency}\")\n",
        "            logging_loss = 0\n",
        "\n",
        "    return epoch_loss / len(training_data_loader)\n",
        "\n",
        "model.to(device)\n",
        "step_count = 0\n",
        "train_bar = tqdm(range(nb_epoch), desc=\"Epoch\")\n",
        "for e in train_bar:\n",
        "    train_loss = train_one_epoch_half_frozen(model, train_loader, optimizer, logging_frequency,frozen_backbone_steps)\n",
        "    eval_acc, eval_loss  = evaluate(model, test_loader, 2)\n",
        "    print(f\"    Epoch: {e+1} Loss/Test: {eval_loss}, Loss/Test: {train_loss}, Acc/Test: {eval_acc}\")\n",
        "    train_bar.set_postfix({\"Loss/Train\": train_loss, \"Loss/Test\": eval_loss, \"Acc/Test\": eval_acc})\n",
        "\n"
      ]
    },
    {
      "cell_type": "markdown",
      "metadata": {
        "id": "tbT1ceJSudXc"
      },
      "source": [
        "**If we freeze and unfreeze the backbone, the result is indeed better compare to the frozen one above.**"
      ]
    },
    {
      "cell_type": "markdown",
      "metadata": {
        "id": "RWzdHXQeEq4y"
      },
      "source": [
        "## 4️⃣ (Optional) Build an emotion aware AI\n",
        "Lets now put everything we learned to the test by building an agent with some emotion detection abilities. Use the [emotion dataset](https://huggingface.co/datasets/emotion) to train an [ALBERT](https://huggingface.co/docs/transformers/model_doc/albert)-based model to detect the six basic emotions in our datasets. (anger, fear, joy, love, sadness, and surprise)"
      ]
    },
    {
      "cell_type": "code",
      "execution_count": 132,
      "metadata": {
        "colab": {
          "base_uri": "https://localhost:8080/",
          "height": 623,
          "referenced_widgets": [
            "a842b14bd3f24594be17e6dc48e3685c",
            "90cd35df23c2466ebfde7a2e0c36f9cf",
            "b10549f878634280abd79d72e512e7c2",
            "48b3f6506750411e9e2c7c92498483e7",
            "bd80f4c3a0ff40f895df5e005456c7dc",
            "684f9a824115432bbfebf4b3c1dcc9cd",
            "41e93b4529434e9e95c9c3c043f1a9f7",
            "1925d485166a414cb6e608572c7965f0",
            "57644bc6b578400981b2409e941e8d33",
            "8939fa946a664d2e953d3c199a23ee44",
            "2840defac12d44458c5e399a6baa52b6"
          ]
        },
        "id": "KK1lJwxgvHUz",
        "outputId": "122892be-16c3-42a3-b6f4-1b73c5e985f3"
      },
      "outputs": [
        {
          "name": "stderr",
          "output_type": "stream",
          "text": [
            "Some weights of the model checkpoint at albert-base-v2 were not used when initializing AlbertModel: ['predictions.bias', 'predictions.LayerNorm.bias', 'predictions.decoder.bias', 'predictions.dense.bias', 'predictions.dense.weight', 'predictions.LayerNorm.weight', 'predictions.decoder.weight']\n",
            "- This IS expected if you are initializing AlbertModel from the checkpoint of a model trained on another task or with another architecture (e.g. initializing a BertForSequenceClassification model from a BertForPreTraining model).\n",
            "- This IS NOT expected if you are initializing AlbertModel from the checkpoint of a model that you expect to be exactly identical (initializing a BertForSequenceClassification model from a BertForSequenceClassification model).\n",
            "WARNING:datasets.builder:No config specified, defaulting to: emotion/split\n",
            "WARNING:datasets.builder:Found cached dataset emotion (/root/.cache/huggingface/datasets/dair-ai___emotion/split/1.0.0/cca5efe2dfeb58c1d098e0f9eeb200e9927d889b5a03c67097275dfb5fe463bd)\n",
            "WARNING:datasets.builder:No config specified, defaulting to: emotion/split\n",
            "WARNING:datasets.builder:Found cached dataset emotion (/root/.cache/huggingface/datasets/dair-ai___emotion/split/1.0.0/cca5efe2dfeb58c1d098e0f9eeb200e9927d889b5a03c67097275dfb5fe463bd)\n"
          ]
        },
        {
          "data": {
            "application/vnd.jupyter.widget-view+json": {
              "model_id": "a842b14bd3f24594be17e6dc48e3685c",
              "version_major": 2,
              "version_minor": 0
            },
            "text/plain": [
              "Epoch:   0%|          | 0/6 [00:00<?, ?it/s]"
            ]
          },
          "metadata": {},
          "output_type": "display_data"
        },
        {
          "name": "stdout",
          "output_type": "stream",
          "text": [
            "Training loss @ step 5: 1.698062539100647\n",
            "Training loss @ step 10: 1.6465108871459961\n",
            "Training loss @ step 15: 1.6809547424316407\n",
            "    Epoch: 1 Loss/Test: 1.5663838684558868, Loss/Test: 1.665993593633175, Acc/Test: 31.0\n",
            "Training loss @ step 5: 1.5532905101776122\n",
            "Training loss @ step 10: 1.5964767932891846\n",
            "Training loss @ step 15: 1.5702354431152343\n",
            "    Epoch: 2 Loss/Test: 1.5090010166168213, Loss/Test: 1.582436464726925, Acc/Test: 44.5\n",
            "Training loss @ step 5: 1.54567232131958\n",
            "Training loss @ step 10: 1.46856632232666\n",
            "Training loss @ step 15: 1.4598652362823485\n",
            "    Epoch: 3 Loss/Test: 1.4301005899906158, Loss/Test: 1.4890755414962769, Acc/Test: 52.0\n",
            "Training loss @ step 5: 1.4560445070266723\n",
            "Training loss @ step 10: 1.3393847942352295\n",
            "Training loss @ step 15: 1.6580770492553711\n",
            "    Epoch: 4 Loss/Test: 1.3566592633724213, Loss/Test: 1.467187874019146, Acc/Test: 47.0\n",
            "Training loss @ step 5: 1.2413426876068114\n",
            "Training loss @ step 10: 1.387000846862793\n",
            "Training loss @ step 15: 1.3542288303375245\n",
            "    Epoch: 5 Loss/Test: 1.2181251645088196, Loss/Test: 1.316026285290718, Acc/Test: 58.5\n",
            "Training loss @ step 5: 1.2831413984298705\n",
            "Training loss @ step 10: 1.2567926883697509\n",
            "Training loss @ step 15: 1.1835227847099303\n",
            "    Epoch: 6 Loss/Test: 1.044311136007309, Loss/Test: 1.2381494604051113, Acc/Test: 60.5\n"
          ]
        }
      ],
      "source": [
        "from transformers import AlbertModel\n",
        "\n",
        "class EmotionClassifier(torch.nn.Module):\n",
        "    def __init__(self, backbone: str, backbone_hidden_size: int, nb_classes: int):\n",
        "        super(EmotionClassifier, self).__init__()\n",
        "        self.backbone = backbone\n",
        "        self.backbone_hidden_size = backbone_hidden_size\n",
        "        self.nb_classes = nb_classes\n",
        "\n",
        "        self.back_bone = AutoModel.from_pretrained(\n",
        "            self.backbone,\n",
        "            output_attentions=False,\n",
        "            output_hidden_states=False,\n",
        "        )\n",
        "\n",
        "        self.classifier = torch.nn.Linear(self.backbone_hidden_size, self.nb_classes)\n",
        "\n",
        "    def forward(\n",
        "        self, input_ids: torch.Tensor, attention_mask: torch.Tensor, labels: Optional[torch.Tensor] = None\n",
        "    ) -> Union[torch.Tensor, Tuple[torch.Tensor, torch.Tensor]]:\n",
        "        back_bone_output = self.back_bone(input_ids, attention_mask=attention_mask)\n",
        "        hidden_states = back_bone_output[0]\n",
        "        pooled_output = hidden_states[:, 0]  # getting the [CLS] token\n",
        "\n",
        "        logits = self.classifier(pooled_output)\n",
        "        if labels is not None:\n",
        "            loss_fn = torch.nn.CrossEntropyLoss()\n",
        "            loss = loss_fn(\n",
        "                logits.view(-1, self.nb_classes),\n",
        "                labels.view(-1),\n",
        "            )\n",
        "            return loss, logits\n",
        "        return logits\n",
        "\n",
        "            \n",
        "    def freeze_backbone(self):\n",
        "        for param in self.back_bone.parameters():\n",
        "            param.requires_grad = False\n",
        "\n",
        "    def unfreeze_backbone(self):\n",
        "        for param in self.back_bone.parameters():\n",
        "            param.requires_grad = True\n",
        "\n",
        "model = EmotionClassifier(backbone=\"albert-base-v2\", backbone_hidden_size=768, nb_classes=6)\n",
        "\n",
        "class Collate_emotion:\n",
        "    def __init__(self, tokenizer: str, max_len: int) -> None:\n",
        "        self.tokenizer_name = tokenizer\n",
        "        self.tokenizer = AutoTokenizer.from_pretrained(self.tokenizer_name)\n",
        "        self.max_len = max_len\n",
        "\n",
        "    def __call__(self, batch: List[Dict[str, Union[str, int]]]) -> Dict[str, torch.Tensor]:\n",
        "        texts = list(map(lambda batch_instance: batch_instance[\"text\"], batch))\n",
        "        tokenized_inputs = self.tokenizer(\n",
        "            texts,\n",
        "            padding=\"longest\",\n",
        "            truncation=True,\n",
        "            max_length=self.max_len,\n",
        "            return_tensors=\"pt\",\n",
        "            return_token_type_ids=False,\n",
        "        )\n",
        "        labels = list(map(lambda batch_instance: int(batch_instance[\"label\"]), batch))\n",
        "        labels = torch.LongTensor(labels)\n",
        "        return dict(tokenized_inputs, **{\"labels\": labels})\n",
        "\n",
        "emotion_train = load_dataset(\"dair-ai/emotion\", split=\"train[:1000]\")\n",
        "emotion_test = load_dataset(\"dair-ai/emotion\", split=\"test[:200]\")\n",
        "\n",
        "emotion_collate = Collate_emotion(tokenizer=\"albert-base-v2\", max_len=128)\n",
        "\n",
        "#@title 🧑‍🍳 Emotion { run: \"auto\" }\n",
        "nb_epoch = 8 #@param {type: \"slider\", min:1, max:10, step:1}\n",
        "batch_size = 64 #@param {type: \"integer\"}\n",
        "logging_frequency = 5 #@param {type: \"integer\"}\n",
        "learning_rate = 1e-5 #@param {type: \"number\"}\n",
        "\n",
        "train_loader = DataLoader(emotion_train, batch_size=batch_size, shuffle=True, collate_fn=emotion_collate)\n",
        "test_loader = DataLoader(emotion_test, batch_size=batch_size, shuffle=False, collate_fn=emotion_collate)\n",
        "\n",
        "# setting up the optimizer\n",
        "no_decay = [\"bias\", \"LayerNorm.weight\"]\n",
        "optimizer_grouped_parameters = [\n",
        "      {\n",
        "          \"params\": [p for n, p in model.named_parameters() if not any(nd in n for nd in no_decay)],\n",
        "          \"weight_decay\": 0.0,\n",
        "      },\n",
        "      {\n",
        "          \"params\": [p for n, p in model.named_parameters() if any(nd in n for nd in no_decay)],\n",
        "          \"weight_decay\": 0.0,\n",
        "      },\n",
        "  ]\n",
        "\n",
        "optimizer = torch.optim.AdamW(optimizer_grouped_parameters, lr=learning_rate, eps=1e-8)\n",
        "\n",
        "frozen_backbone_steps = 5\n",
        "\n",
        "model.to(device)\n",
        "train_bar = tqdm(range(nb_epoch), desc=\"Epoch\")\n",
        "for e in train_bar:\n",
        "    train_loss = train_one_epoch_half_frozen(model, train_loader, optimizer, logging_frequency,frozen_backbone_steps)\n",
        "    eval_acc, eval_loss  = evaluate(model, test_loader, 6)\n",
        "    print(f\"    Epoch: {e+1} Loss/Test: {eval_loss}, Loss/Test: {train_loss}, Acc/Test: {eval_acc}\")\n",
        "    train_bar.set_postfix({\"Loss/Train\": train_loss, \"Loss/Test\": eval_loss, \"Acc/Test\": eval_acc})\n"
      ]
    }
  ],
  "metadata": {
    "accelerator": "GPU",
    "colab": {
      "include_colab_link": true,
      "provenance": []
    },
    "kernelspec": {
      "display_name": "Python 3",
      "name": "python3"
    },
    "language_info": {
      "name": "python",
      "version": "3.9.7"
    },
    "widgets": {
      "application/vnd.jupyter.widget-state+json": {
        "161140a178934197a7b130d781c15dfe": {
          "model_module": "@jupyter-widgets/base",
          "model_module_version": "1.2.0",
          "model_name": "LayoutModel",
          "state": {
            "_model_module": "@jupyter-widgets/base",
            "_model_module_version": "1.2.0",
            "_model_name": "LayoutModel",
            "_view_count": null,
            "_view_module": "@jupyter-widgets/base",
            "_view_module_version": "1.2.0",
            "_view_name": "LayoutView",
            "align_content": null,
            "align_items": null,
            "align_self": null,
            "border": null,
            "bottom": null,
            "display": null,
            "flex": null,
            "flex_flow": null,
            "grid_area": null,
            "grid_auto_columns": null,
            "grid_auto_flow": null,
            "grid_auto_rows": null,
            "grid_column": null,
            "grid_gap": null,
            "grid_row": null,
            "grid_template_areas": null,
            "grid_template_columns": null,
            "grid_template_rows": null,
            "height": null,
            "justify_content": null,
            "justify_items": null,
            "left": null,
            "margin": null,
            "max_height": null,
            "max_width": null,
            "min_height": null,
            "min_width": null,
            "object_fit": null,
            "object_position": null,
            "order": null,
            "overflow": null,
            "overflow_x": null,
            "overflow_y": null,
            "padding": null,
            "right": null,
            "top": null,
            "visibility": null,
            "width": null
          }
        },
        "1630d050ca0c4331856ffcb268d7901a": {
          "model_module": "@jupyter-widgets/controls",
          "model_module_version": "1.5.0",
          "model_name": "DescriptionStyleModel",
          "state": {
            "_model_module": "@jupyter-widgets/controls",
            "_model_module_version": "1.5.0",
            "_model_name": "DescriptionStyleModel",
            "_view_count": null,
            "_view_module": "@jupyter-widgets/base",
            "_view_module_version": "1.2.0",
            "_view_name": "StyleView",
            "description_width": ""
          }
        },
        "1925d485166a414cb6e608572c7965f0": {
          "model_module": "@jupyter-widgets/base",
          "model_module_version": "1.2.0",
          "model_name": "LayoutModel",
          "state": {
            "_model_module": "@jupyter-widgets/base",
            "_model_module_version": "1.2.0",
            "_model_name": "LayoutModel",
            "_view_count": null,
            "_view_module": "@jupyter-widgets/base",
            "_view_module_version": "1.2.0",
            "_view_name": "LayoutView",
            "align_content": null,
            "align_items": null,
            "align_self": null,
            "border": null,
            "bottom": null,
            "display": null,
            "flex": null,
            "flex_flow": null,
            "grid_area": null,
            "grid_auto_columns": null,
            "grid_auto_flow": null,
            "grid_auto_rows": null,
            "grid_column": null,
            "grid_gap": null,
            "grid_row": null,
            "grid_template_areas": null,
            "grid_template_columns": null,
            "grid_template_rows": null,
            "height": null,
            "justify_content": null,
            "justify_items": null,
            "left": null,
            "margin": null,
            "max_height": null,
            "max_width": null,
            "min_height": null,
            "min_width": null,
            "object_fit": null,
            "object_position": null,
            "order": null,
            "overflow": null,
            "overflow_x": null,
            "overflow_y": null,
            "padding": null,
            "right": null,
            "top": null,
            "visibility": null,
            "width": null
          }
        },
        "219b4bae75be4627902015bfa2440126": {
          "model_module": "@jupyter-widgets/controls",
          "model_module_version": "1.5.0",
          "model_name": "DescriptionStyleModel",
          "state": {
            "_model_module": "@jupyter-widgets/controls",
            "_model_module_version": "1.5.0",
            "_model_name": "DescriptionStyleModel",
            "_view_count": null,
            "_view_module": "@jupyter-widgets/base",
            "_view_module_version": "1.2.0",
            "_view_name": "StyleView",
            "description_width": ""
          }
        },
        "230a816454cf48e7ad9c5b37ca1066a6": {
          "model_module": "@jupyter-widgets/controls",
          "model_module_version": "1.5.0",
          "model_name": "HTMLModel",
          "state": {
            "_dom_classes": [],
            "_model_module": "@jupyter-widgets/controls",
            "_model_module_version": "1.5.0",
            "_model_name": "HTMLModel",
            "_view_count": null,
            "_view_module": "@jupyter-widgets/controls",
            "_view_module_version": "1.5.0",
            "_view_name": "HTMLView",
            "description": "",
            "description_tooltip": null,
            "layout": "IPY_MODEL_6a54dfd403a04328a8b56be77a1cf8bf",
            "placeholder": "​",
            "style": "IPY_MODEL_69f1d1c22fae4ba1b0cf1fa9e46b6176",
            "value": "Epoch: 100%"
          }
        },
        "23873ebce0324a048cfb59661ff21f85": {
          "model_module": "@jupyter-widgets/base",
          "model_module_version": "1.2.0",
          "model_name": "LayoutModel",
          "state": {
            "_model_module": "@jupyter-widgets/base",
            "_model_module_version": "1.2.0",
            "_model_name": "LayoutModel",
            "_view_count": null,
            "_view_module": "@jupyter-widgets/base",
            "_view_module_version": "1.2.0",
            "_view_name": "LayoutView",
            "align_content": null,
            "align_items": null,
            "align_self": null,
            "border": null,
            "bottom": null,
            "display": null,
            "flex": null,
            "flex_flow": null,
            "grid_area": null,
            "grid_auto_columns": null,
            "grid_auto_flow": null,
            "grid_auto_rows": null,
            "grid_column": null,
            "grid_gap": null,
            "grid_row": null,
            "grid_template_areas": null,
            "grid_template_columns": null,
            "grid_template_rows": null,
            "height": null,
            "justify_content": null,
            "justify_items": null,
            "left": null,
            "margin": null,
            "max_height": null,
            "max_width": null,
            "min_height": null,
            "min_width": null,
            "object_fit": null,
            "object_position": null,
            "order": null,
            "overflow": null,
            "overflow_x": null,
            "overflow_y": null,
            "padding": null,
            "right": null,
            "top": null,
            "visibility": null,
            "width": null
          }
        },
        "2840defac12d44458c5e399a6baa52b6": {
          "model_module": "@jupyter-widgets/controls",
          "model_module_version": "1.5.0",
          "model_name": "DescriptionStyleModel",
          "state": {
            "_model_module": "@jupyter-widgets/controls",
            "_model_module_version": "1.5.0",
            "_model_name": "DescriptionStyleModel",
            "_view_count": null,
            "_view_module": "@jupyter-widgets/base",
            "_view_module_version": "1.2.0",
            "_view_name": "StyleView",
            "description_width": ""
          }
        },
        "2cd6225868c34dd0adf3f92bba74cab1": {
          "model_module": "@jupyter-widgets/base",
          "model_module_version": "1.2.0",
          "model_name": "LayoutModel",
          "state": {
            "_model_module": "@jupyter-widgets/base",
            "_model_module_version": "1.2.0",
            "_model_name": "LayoutModel",
            "_view_count": null,
            "_view_module": "@jupyter-widgets/base",
            "_view_module_version": "1.2.0",
            "_view_name": "LayoutView",
            "align_content": null,
            "align_items": null,
            "align_self": null,
            "border": null,
            "bottom": null,
            "display": null,
            "flex": null,
            "flex_flow": null,
            "grid_area": null,
            "grid_auto_columns": null,
            "grid_auto_flow": null,
            "grid_auto_rows": null,
            "grid_column": null,
            "grid_gap": null,
            "grid_row": null,
            "grid_template_areas": null,
            "grid_template_columns": null,
            "grid_template_rows": null,
            "height": null,
            "justify_content": null,
            "justify_items": null,
            "left": null,
            "margin": null,
            "max_height": null,
            "max_width": null,
            "min_height": null,
            "min_width": null,
            "object_fit": null,
            "object_position": null,
            "order": null,
            "overflow": null,
            "overflow_x": null,
            "overflow_y": null,
            "padding": null,
            "right": null,
            "top": null,
            "visibility": null,
            "width": null
          }
        },
        "2d4aeabe408a4456b02e83c2c4330e18": {
          "model_module": "@jupyter-widgets/controls",
          "model_module_version": "1.5.0",
          "model_name": "HTMLModel",
          "state": {
            "_dom_classes": [],
            "_model_module": "@jupyter-widgets/controls",
            "_model_module_version": "1.5.0",
            "_model_name": "HTMLModel",
            "_view_count": null,
            "_view_module": "@jupyter-widgets/controls",
            "_view_module_version": "1.5.0",
            "_view_name": "HTMLView",
            "description": "",
            "description_tooltip": null,
            "layout": "IPY_MODEL_94c7217b1ca04e60906281581db7bac6",
            "placeholder": "​",
            "style": "IPY_MODEL_dad8bdfb4d6041d3a9bf402a25f7bd98",
            "value": " 3/3 [00:06&lt;00:00,  2.16s/it, Loss/Train=0.442, Loss/Test=0.521, Acc/Test=71]"
          }
        },
        "3093291e773540e6bc2ae7375468e9b0": {
          "model_module": "@jupyter-widgets/base",
          "model_module_version": "1.2.0",
          "model_name": "LayoutModel",
          "state": {
            "_model_module": "@jupyter-widgets/base",
            "_model_module_version": "1.2.0",
            "_model_name": "LayoutModel",
            "_view_count": null,
            "_view_module": "@jupyter-widgets/base",
            "_view_module_version": "1.2.0",
            "_view_name": "LayoutView",
            "align_content": null,
            "align_items": null,
            "align_self": null,
            "border": null,
            "bottom": null,
            "display": null,
            "flex": null,
            "flex_flow": null,
            "grid_area": null,
            "grid_auto_columns": null,
            "grid_auto_flow": null,
            "grid_auto_rows": null,
            "grid_column": null,
            "grid_gap": null,
            "grid_row": null,
            "grid_template_areas": null,
            "grid_template_columns": null,
            "grid_template_rows": null,
            "height": null,
            "justify_content": null,
            "justify_items": null,
            "left": null,
            "margin": null,
            "max_height": null,
            "max_width": null,
            "min_height": null,
            "min_width": null,
            "object_fit": null,
            "object_position": null,
            "order": null,
            "overflow": null,
            "overflow_x": null,
            "overflow_y": null,
            "padding": null,
            "right": null,
            "top": null,
            "visibility": null,
            "width": null
          }
        },
        "31f820f4c02544499820891a329b0a60": {
          "model_module": "@jupyter-widgets/controls",
          "model_module_version": "1.5.0",
          "model_name": "HBoxModel",
          "state": {
            "_dom_classes": [],
            "_model_module": "@jupyter-widgets/controls",
            "_model_module_version": "1.5.0",
            "_model_name": "HBoxModel",
            "_view_count": null,
            "_view_module": "@jupyter-widgets/controls",
            "_view_module_version": "1.5.0",
            "_view_name": "HBoxView",
            "box_style": "",
            "children": [
              "IPY_MODEL_ea327191c5f1439ca1e5ec7f0ebb3565",
              "IPY_MODEL_b179276d10a6459a8b3d5fa97c49a852",
              "IPY_MODEL_2d4aeabe408a4456b02e83c2c4330e18"
            ],
            "layout": "IPY_MODEL_d0590855f9024412a2c088f392c430ea"
          }
        },
        "3be4acc41f084ffa89b94f9994b64cd1": {
          "model_module": "@jupyter-widgets/base",
          "model_module_version": "1.2.0",
          "model_name": "LayoutModel",
          "state": {
            "_model_module": "@jupyter-widgets/base",
            "_model_module_version": "1.2.0",
            "_model_name": "LayoutModel",
            "_view_count": null,
            "_view_module": "@jupyter-widgets/base",
            "_view_module_version": "1.2.0",
            "_view_name": "LayoutView",
            "align_content": null,
            "align_items": null,
            "align_self": null,
            "border": null,
            "bottom": null,
            "display": null,
            "flex": null,
            "flex_flow": null,
            "grid_area": null,
            "grid_auto_columns": null,
            "grid_auto_flow": null,
            "grid_auto_rows": null,
            "grid_column": null,
            "grid_gap": null,
            "grid_row": null,
            "grid_template_areas": null,
            "grid_template_columns": null,
            "grid_template_rows": null,
            "height": null,
            "justify_content": null,
            "justify_items": null,
            "left": null,
            "margin": null,
            "max_height": null,
            "max_width": null,
            "min_height": null,
            "min_width": null,
            "object_fit": null,
            "object_position": null,
            "order": null,
            "overflow": null,
            "overflow_x": null,
            "overflow_y": null,
            "padding": null,
            "right": null,
            "top": null,
            "visibility": null,
            "width": null
          }
        },
        "41e93b4529434e9e95c9c3c043f1a9f7": {
          "model_module": "@jupyter-widgets/controls",
          "model_module_version": "1.5.0",
          "model_name": "DescriptionStyleModel",
          "state": {
            "_model_module": "@jupyter-widgets/controls",
            "_model_module_version": "1.5.0",
            "_model_name": "DescriptionStyleModel",
            "_view_count": null,
            "_view_module": "@jupyter-widgets/base",
            "_view_module_version": "1.2.0",
            "_view_name": "StyleView",
            "description_width": ""
          }
        },
        "48b3f6506750411e9e2c7c92498483e7": {
          "model_module": "@jupyter-widgets/controls",
          "model_module_version": "1.5.0",
          "model_name": "HTMLModel",
          "state": {
            "_dom_classes": [],
            "_model_module": "@jupyter-widgets/controls",
            "_model_module_version": "1.5.0",
            "_model_name": "HTMLModel",
            "_view_count": null,
            "_view_module": "@jupyter-widgets/controls",
            "_view_module_version": "1.5.0",
            "_view_name": "HTMLView",
            "description": "",
            "description_tooltip": null,
            "layout": "IPY_MODEL_8939fa946a664d2e953d3c199a23ee44",
            "placeholder": "​",
            "style": "IPY_MODEL_2840defac12d44458c5e399a6baa52b6",
            "value": " 6/6 [00:57&lt;00:00,  9.64s/it, Loss/Train=1.24, Loss/Test=1.04, Acc/Test=60.5]"
          }
        },
        "4cca0c818fa04c57ac15f5436aa93e6f": {
          "model_module": "@jupyter-widgets/base",
          "model_module_version": "1.2.0",
          "model_name": "LayoutModel",
          "state": {
            "_model_module": "@jupyter-widgets/base",
            "_model_module_version": "1.2.0",
            "_model_name": "LayoutModel",
            "_view_count": null,
            "_view_module": "@jupyter-widgets/base",
            "_view_module_version": "1.2.0",
            "_view_name": "LayoutView",
            "align_content": null,
            "align_items": null,
            "align_self": null,
            "border": null,
            "bottom": null,
            "display": null,
            "flex": null,
            "flex_flow": null,
            "grid_area": null,
            "grid_auto_columns": null,
            "grid_auto_flow": null,
            "grid_auto_rows": null,
            "grid_column": null,
            "grid_gap": null,
            "grid_row": null,
            "grid_template_areas": null,
            "grid_template_columns": null,
            "grid_template_rows": null,
            "height": null,
            "justify_content": null,
            "justify_items": null,
            "left": null,
            "margin": null,
            "max_height": null,
            "max_width": null,
            "min_height": null,
            "min_width": null,
            "object_fit": null,
            "object_position": null,
            "order": null,
            "overflow": null,
            "overflow_x": null,
            "overflow_y": null,
            "padding": null,
            "right": null,
            "top": null,
            "visibility": null,
            "width": null
          }
        },
        "5177979bce85465fb8bf37ca3d9ef590": {
          "model_module": "@jupyter-widgets/controls",
          "model_module_version": "1.5.0",
          "model_name": "FloatProgressModel",
          "state": {
            "_dom_classes": [],
            "_model_module": "@jupyter-widgets/controls",
            "_model_module_version": "1.5.0",
            "_model_name": "FloatProgressModel",
            "_view_count": null,
            "_view_module": "@jupyter-widgets/controls",
            "_view_module_version": "1.5.0",
            "_view_name": "ProgressView",
            "bar_style": "success",
            "description": "",
            "description_tooltip": null,
            "layout": "IPY_MODEL_bcfea3d013314c1cbeb37f3777fb5cfb",
            "max": 3,
            "min": 0,
            "orientation": "horizontal",
            "style": "IPY_MODEL_a8707f81d7264962bbc16ba749151615",
            "value": 3
          }
        },
        "5574f05b274b43a4ac9198239bbef20a": {
          "model_module": "@jupyter-widgets/controls",
          "model_module_version": "1.5.0",
          "model_name": "HTMLModel",
          "state": {
            "_dom_classes": [],
            "_model_module": "@jupyter-widgets/controls",
            "_model_module_version": "1.5.0",
            "_model_name": "HTMLModel",
            "_view_count": null,
            "_view_module": "@jupyter-widgets/controls",
            "_view_module_version": "1.5.0",
            "_view_name": "HTMLView",
            "description": "",
            "description_tooltip": null,
            "layout": "IPY_MODEL_74fe89bfc6f0468d92bb011a7b480e4e",
            "placeholder": "​",
            "style": "IPY_MODEL_b923d403cd434c59b6751a011a5aed13",
            "value": "Epoch: 100%"
          }
        },
        "57644bc6b578400981b2409e941e8d33": {
          "model_module": "@jupyter-widgets/controls",
          "model_module_version": "1.5.0",
          "model_name": "ProgressStyleModel",
          "state": {
            "_model_module": "@jupyter-widgets/controls",
            "_model_module_version": "1.5.0",
            "_model_name": "ProgressStyleModel",
            "_view_count": null,
            "_view_module": "@jupyter-widgets/base",
            "_view_module_version": "1.2.0",
            "_view_name": "StyleView",
            "bar_color": null,
            "description_width": ""
          }
        },
        "5a3d866646eb46efae18af830c142cb7": {
          "model_module": "@jupyter-widgets/controls",
          "model_module_version": "1.5.0",
          "model_name": "DescriptionStyleModel",
          "state": {
            "_model_module": "@jupyter-widgets/controls",
            "_model_module_version": "1.5.0",
            "_model_name": "DescriptionStyleModel",
            "_view_count": null,
            "_view_module": "@jupyter-widgets/base",
            "_view_module_version": "1.2.0",
            "_view_name": "StyleView",
            "description_width": ""
          }
        },
        "65a072d8139047a080cd52487ac922f0": {
          "model_module": "@jupyter-widgets/controls",
          "model_module_version": "1.5.0",
          "model_name": "ProgressStyleModel",
          "state": {
            "_model_module": "@jupyter-widgets/controls",
            "_model_module_version": "1.5.0",
            "_model_name": "ProgressStyleModel",
            "_view_count": null,
            "_view_module": "@jupyter-widgets/base",
            "_view_module_version": "1.2.0",
            "_view_name": "StyleView",
            "bar_color": null,
            "description_width": ""
          }
        },
        "684f9a824115432bbfebf4b3c1dcc9cd": {
          "model_module": "@jupyter-widgets/base",
          "model_module_version": "1.2.0",
          "model_name": "LayoutModel",
          "state": {
            "_model_module": "@jupyter-widgets/base",
            "_model_module_version": "1.2.0",
            "_model_name": "LayoutModel",
            "_view_count": null,
            "_view_module": "@jupyter-widgets/base",
            "_view_module_version": "1.2.0",
            "_view_name": "LayoutView",
            "align_content": null,
            "align_items": null,
            "align_self": null,
            "border": null,
            "bottom": null,
            "display": null,
            "flex": null,
            "flex_flow": null,
            "grid_area": null,
            "grid_auto_columns": null,
            "grid_auto_flow": null,
            "grid_auto_rows": null,
            "grid_column": null,
            "grid_gap": null,
            "grid_row": null,
            "grid_template_areas": null,
            "grid_template_columns": null,
            "grid_template_rows": null,
            "height": null,
            "justify_content": null,
            "justify_items": null,
            "left": null,
            "margin": null,
            "max_height": null,
            "max_width": null,
            "min_height": null,
            "min_width": null,
            "object_fit": null,
            "object_position": null,
            "order": null,
            "overflow": null,
            "overflow_x": null,
            "overflow_y": null,
            "padding": null,
            "right": null,
            "top": null,
            "visibility": null,
            "width": null
          }
        },
        "69f1d1c22fae4ba1b0cf1fa9e46b6176": {
          "model_module": "@jupyter-widgets/controls",
          "model_module_version": "1.5.0",
          "model_name": "DescriptionStyleModel",
          "state": {
            "_model_module": "@jupyter-widgets/controls",
            "_model_module_version": "1.5.0",
            "_model_name": "DescriptionStyleModel",
            "_view_count": null,
            "_view_module": "@jupyter-widgets/base",
            "_view_module_version": "1.2.0",
            "_view_name": "StyleView",
            "description_width": ""
          }
        },
        "6a54dfd403a04328a8b56be77a1cf8bf": {
          "model_module": "@jupyter-widgets/base",
          "model_module_version": "1.2.0",
          "model_name": "LayoutModel",
          "state": {
            "_model_module": "@jupyter-widgets/base",
            "_model_module_version": "1.2.0",
            "_model_name": "LayoutModel",
            "_view_count": null,
            "_view_module": "@jupyter-widgets/base",
            "_view_module_version": "1.2.0",
            "_view_name": "LayoutView",
            "align_content": null,
            "align_items": null,
            "align_self": null,
            "border": null,
            "bottom": null,
            "display": null,
            "flex": null,
            "flex_flow": null,
            "grid_area": null,
            "grid_auto_columns": null,
            "grid_auto_flow": null,
            "grid_auto_rows": null,
            "grid_column": null,
            "grid_gap": null,
            "grid_row": null,
            "grid_template_areas": null,
            "grid_template_columns": null,
            "grid_template_rows": null,
            "height": null,
            "justify_content": null,
            "justify_items": null,
            "left": null,
            "margin": null,
            "max_height": null,
            "max_width": null,
            "min_height": null,
            "min_width": null,
            "object_fit": null,
            "object_position": null,
            "order": null,
            "overflow": null,
            "overflow_x": null,
            "overflow_y": null,
            "padding": null,
            "right": null,
            "top": null,
            "visibility": null,
            "width": null
          }
        },
        "6d3e703fe4744d95b554c42faa0b37f1": {
          "model_module": "@jupyter-widgets/controls",
          "model_module_version": "1.5.0",
          "model_name": "HTMLModel",
          "state": {
            "_dom_classes": [],
            "_model_module": "@jupyter-widgets/controls",
            "_model_module_version": "1.5.0",
            "_model_name": "HTMLModel",
            "_view_count": null,
            "_view_module": "@jupyter-widgets/controls",
            "_view_module_version": "1.5.0",
            "_view_name": "HTMLView",
            "description": "",
            "description_tooltip": null,
            "layout": "IPY_MODEL_b399d017987441d38fc6f476bec10eee",
            "placeholder": "​",
            "style": "IPY_MODEL_c0635ba3f21840bf9b2d911a1b1845e9",
            "value": " 3/3 [00:05&lt;00:00,  2.02s/it, Loss/Train=0.44, Loss/Test=0.374, Acc/Test=83.5]"
          }
        },
        "7123fa9dd36b450f888f8179a1eef8b6": {
          "model_module": "@jupyter-widgets/base",
          "model_module_version": "1.2.0",
          "model_name": "LayoutModel",
          "state": {
            "_model_module": "@jupyter-widgets/base",
            "_model_module_version": "1.2.0",
            "_model_name": "LayoutModel",
            "_view_count": null,
            "_view_module": "@jupyter-widgets/base",
            "_view_module_version": "1.2.0",
            "_view_name": "LayoutView",
            "align_content": null,
            "align_items": null,
            "align_self": null,
            "border": null,
            "bottom": null,
            "display": null,
            "flex": null,
            "flex_flow": null,
            "grid_area": null,
            "grid_auto_columns": null,
            "grid_auto_flow": null,
            "grid_auto_rows": null,
            "grid_column": null,
            "grid_gap": null,
            "grid_row": null,
            "grid_template_areas": null,
            "grid_template_columns": null,
            "grid_template_rows": null,
            "height": null,
            "justify_content": null,
            "justify_items": null,
            "left": null,
            "margin": null,
            "max_height": null,
            "max_width": null,
            "min_height": null,
            "min_width": null,
            "object_fit": null,
            "object_position": null,
            "order": null,
            "overflow": null,
            "overflow_x": null,
            "overflow_y": null,
            "padding": null,
            "right": null,
            "top": null,
            "visibility": null,
            "width": null
          }
        },
        "74fe89bfc6f0468d92bb011a7b480e4e": {
          "model_module": "@jupyter-widgets/base",
          "model_module_version": "1.2.0",
          "model_name": "LayoutModel",
          "state": {
            "_model_module": "@jupyter-widgets/base",
            "_model_module_version": "1.2.0",
            "_model_name": "LayoutModel",
            "_view_count": null,
            "_view_module": "@jupyter-widgets/base",
            "_view_module_version": "1.2.0",
            "_view_name": "LayoutView",
            "align_content": null,
            "align_items": null,
            "align_self": null,
            "border": null,
            "bottom": null,
            "display": null,
            "flex": null,
            "flex_flow": null,
            "grid_area": null,
            "grid_auto_columns": null,
            "grid_auto_flow": null,
            "grid_auto_rows": null,
            "grid_column": null,
            "grid_gap": null,
            "grid_row": null,
            "grid_template_areas": null,
            "grid_template_columns": null,
            "grid_template_rows": null,
            "height": null,
            "justify_content": null,
            "justify_items": null,
            "left": null,
            "margin": null,
            "max_height": null,
            "max_width": null,
            "min_height": null,
            "min_width": null,
            "object_fit": null,
            "object_position": null,
            "order": null,
            "overflow": null,
            "overflow_x": null,
            "overflow_y": null,
            "padding": null,
            "right": null,
            "top": null,
            "visibility": null,
            "width": null
          }
        },
        "7d659366d37b4bd59d265e33b2c1bd30": {
          "model_module": "@jupyter-widgets/controls",
          "model_module_version": "1.5.0",
          "model_name": "HTMLModel",
          "state": {
            "_dom_classes": [],
            "_model_module": "@jupyter-widgets/controls",
            "_model_module_version": "1.5.0",
            "_model_name": "HTMLModel",
            "_view_count": null,
            "_view_module": "@jupyter-widgets/controls",
            "_view_module_version": "1.5.0",
            "_view_name": "HTMLView",
            "description": "",
            "description_tooltip": null,
            "layout": "IPY_MODEL_8c06a18ea59b425799ac0753fadc0891",
            "placeholder": "​",
            "style": "IPY_MODEL_d5e0eee2a08e44d697fce6f8e916149f",
            "value": " 3/3 [00:02&lt;00:00,  1.25it/s, Loss/Train=0.69, Loss/Test=0.686, Acc/Test=59.5]"
          }
        },
        "80eb6e109a7f49449f6648f7c27882a7": {
          "model_module": "@jupyter-widgets/controls",
          "model_module_version": "1.5.0",
          "model_name": "FloatProgressModel",
          "state": {
            "_dom_classes": [],
            "_model_module": "@jupyter-widgets/controls",
            "_model_module_version": "1.5.0",
            "_model_name": "FloatProgressModel",
            "_view_count": null,
            "_view_module": "@jupyter-widgets/controls",
            "_view_module_version": "1.5.0",
            "_view_name": "ProgressView",
            "bar_style": "success",
            "description": "",
            "description_tooltip": null,
            "layout": "IPY_MODEL_b10fa1e7227040dda3350d3ca4bbc606",
            "max": 3,
            "min": 0,
            "orientation": "horizontal",
            "style": "IPY_MODEL_b0e0917c000f43d39c92413c3f4945a6",
            "value": 3
          }
        },
        "8939fa946a664d2e953d3c199a23ee44": {
          "model_module": "@jupyter-widgets/base",
          "model_module_version": "1.2.0",
          "model_name": "LayoutModel",
          "state": {
            "_model_module": "@jupyter-widgets/base",
            "_model_module_version": "1.2.0",
            "_model_name": "LayoutModel",
            "_view_count": null,
            "_view_module": "@jupyter-widgets/base",
            "_view_module_version": "1.2.0",
            "_view_name": "LayoutView",
            "align_content": null,
            "align_items": null,
            "align_self": null,
            "border": null,
            "bottom": null,
            "display": null,
            "flex": null,
            "flex_flow": null,
            "grid_area": null,
            "grid_auto_columns": null,
            "grid_auto_flow": null,
            "grid_auto_rows": null,
            "grid_column": null,
            "grid_gap": null,
            "grid_row": null,
            "grid_template_areas": null,
            "grid_template_columns": null,
            "grid_template_rows": null,
            "height": null,
            "justify_content": null,
            "justify_items": null,
            "left": null,
            "margin": null,
            "max_height": null,
            "max_width": null,
            "min_height": null,
            "min_width": null,
            "object_fit": null,
            "object_position": null,
            "order": null,
            "overflow": null,
            "overflow_x": null,
            "overflow_y": null,
            "padding": null,
            "right": null,
            "top": null,
            "visibility": null,
            "width": null
          }
        },
        "8c06a18ea59b425799ac0753fadc0891": {
          "model_module": "@jupyter-widgets/base",
          "model_module_version": "1.2.0",
          "model_name": "LayoutModel",
          "state": {
            "_model_module": "@jupyter-widgets/base",
            "_model_module_version": "1.2.0",
            "_model_name": "LayoutModel",
            "_view_count": null,
            "_view_module": "@jupyter-widgets/base",
            "_view_module_version": "1.2.0",
            "_view_name": "LayoutView",
            "align_content": null,
            "align_items": null,
            "align_self": null,
            "border": null,
            "bottom": null,
            "display": null,
            "flex": null,
            "flex_flow": null,
            "grid_area": null,
            "grid_auto_columns": null,
            "grid_auto_flow": null,
            "grid_auto_rows": null,
            "grid_column": null,
            "grid_gap": null,
            "grid_row": null,
            "grid_template_areas": null,
            "grid_template_columns": null,
            "grid_template_rows": null,
            "height": null,
            "justify_content": null,
            "justify_items": null,
            "left": null,
            "margin": null,
            "max_height": null,
            "max_width": null,
            "min_height": null,
            "min_width": null,
            "object_fit": null,
            "object_position": null,
            "order": null,
            "overflow": null,
            "overflow_x": null,
            "overflow_y": null,
            "padding": null,
            "right": null,
            "top": null,
            "visibility": null,
            "width": null
          }
        },
        "903ef6964f894f2c93462231f9dd9ef9": {
          "model_module": "@jupyter-widgets/controls",
          "model_module_version": "1.5.0",
          "model_name": "DescriptionStyleModel",
          "state": {
            "_model_module": "@jupyter-widgets/controls",
            "_model_module_version": "1.5.0",
            "_model_name": "DescriptionStyleModel",
            "_view_count": null,
            "_view_module": "@jupyter-widgets/base",
            "_view_module_version": "1.2.0",
            "_view_name": "StyleView",
            "description_width": ""
          }
        },
        "90cd35df23c2466ebfde7a2e0c36f9cf": {
          "model_module": "@jupyter-widgets/controls",
          "model_module_version": "1.5.0",
          "model_name": "HTMLModel",
          "state": {
            "_dom_classes": [],
            "_model_module": "@jupyter-widgets/controls",
            "_model_module_version": "1.5.0",
            "_model_name": "HTMLModel",
            "_view_count": null,
            "_view_module": "@jupyter-widgets/controls",
            "_view_module_version": "1.5.0",
            "_view_name": "HTMLView",
            "description": "",
            "description_tooltip": null,
            "layout": "IPY_MODEL_684f9a824115432bbfebf4b3c1dcc9cd",
            "placeholder": "​",
            "style": "IPY_MODEL_41e93b4529434e9e95c9c3c043f1a9f7",
            "value": "Epoch: 100%"
          }
        },
        "9242e983aad44002a5961b958daad15b": {
          "model_module": "@jupyter-widgets/controls",
          "model_module_version": "1.5.0",
          "model_name": "HTMLModel",
          "state": {
            "_dom_classes": [],
            "_model_module": "@jupyter-widgets/controls",
            "_model_module_version": "1.5.0",
            "_model_name": "HTMLModel",
            "_view_count": null,
            "_view_module": "@jupyter-widgets/controls",
            "_view_module_version": "1.5.0",
            "_view_name": "HTMLView",
            "description": "",
            "description_tooltip": null,
            "layout": "IPY_MODEL_4cca0c818fa04c57ac15f5436aa93e6f",
            "placeholder": "​",
            "style": "IPY_MODEL_5a3d866646eb46efae18af830c142cb7",
            "value": "Epoch: 100%"
          }
        },
        "9395d5ee856c41ff9e80b897681db6b1": {
          "model_module": "@jupyter-widgets/controls",
          "model_module_version": "1.5.0",
          "model_name": "DescriptionStyleModel",
          "state": {
            "_model_module": "@jupyter-widgets/controls",
            "_model_module_version": "1.5.0",
            "_model_name": "DescriptionStyleModel",
            "_view_count": null,
            "_view_module": "@jupyter-widgets/base",
            "_view_module_version": "1.2.0",
            "_view_name": "StyleView",
            "description_width": ""
          }
        },
        "94c7217b1ca04e60906281581db7bac6": {
          "model_module": "@jupyter-widgets/base",
          "model_module_version": "1.2.0",
          "model_name": "LayoutModel",
          "state": {
            "_model_module": "@jupyter-widgets/base",
            "_model_module_version": "1.2.0",
            "_model_name": "LayoutModel",
            "_view_count": null,
            "_view_module": "@jupyter-widgets/base",
            "_view_module_version": "1.2.0",
            "_view_name": "LayoutView",
            "align_content": null,
            "align_items": null,
            "align_self": null,
            "border": null,
            "bottom": null,
            "display": null,
            "flex": null,
            "flex_flow": null,
            "grid_area": null,
            "grid_auto_columns": null,
            "grid_auto_flow": null,
            "grid_auto_rows": null,
            "grid_column": null,
            "grid_gap": null,
            "grid_row": null,
            "grid_template_areas": null,
            "grid_template_columns": null,
            "grid_template_rows": null,
            "height": null,
            "justify_content": null,
            "justify_items": null,
            "left": null,
            "margin": null,
            "max_height": null,
            "max_width": null,
            "min_height": null,
            "min_width": null,
            "object_fit": null,
            "object_position": null,
            "order": null,
            "overflow": null,
            "overflow_x": null,
            "overflow_y": null,
            "padding": null,
            "right": null,
            "top": null,
            "visibility": null,
            "width": null
          }
        },
        "9711d3d5881d44d498f2c085ae90d095": {
          "model_module": "@jupyter-widgets/base",
          "model_module_version": "1.2.0",
          "model_name": "LayoutModel",
          "state": {
            "_model_module": "@jupyter-widgets/base",
            "_model_module_version": "1.2.0",
            "_model_name": "LayoutModel",
            "_view_count": null,
            "_view_module": "@jupyter-widgets/base",
            "_view_module_version": "1.2.0",
            "_view_name": "LayoutView",
            "align_content": null,
            "align_items": null,
            "align_self": null,
            "border": null,
            "bottom": null,
            "display": null,
            "flex": null,
            "flex_flow": null,
            "grid_area": null,
            "grid_auto_columns": null,
            "grid_auto_flow": null,
            "grid_auto_rows": null,
            "grid_column": null,
            "grid_gap": null,
            "grid_row": null,
            "grid_template_areas": null,
            "grid_template_columns": null,
            "grid_template_rows": null,
            "height": null,
            "justify_content": null,
            "justify_items": null,
            "left": null,
            "margin": null,
            "max_height": null,
            "max_width": null,
            "min_height": null,
            "min_width": null,
            "object_fit": null,
            "object_position": null,
            "order": null,
            "overflow": null,
            "overflow_x": null,
            "overflow_y": null,
            "padding": null,
            "right": null,
            "top": null,
            "visibility": null,
            "width": null
          }
        },
        "a2e3d3b72f9c45b5b9b421f60a8c1126": {
          "model_module": "@jupyter-widgets/controls",
          "model_module_version": "1.5.0",
          "model_name": "FloatProgressModel",
          "state": {
            "_dom_classes": [],
            "_model_module": "@jupyter-widgets/controls",
            "_model_module_version": "1.5.0",
            "_model_name": "FloatProgressModel",
            "_view_count": null,
            "_view_module": "@jupyter-widgets/controls",
            "_view_module_version": "1.5.0",
            "_view_name": "ProgressView",
            "bar_style": "success",
            "description": "",
            "description_tooltip": null,
            "layout": "IPY_MODEL_161140a178934197a7b130d781c15dfe",
            "max": 3,
            "min": 0,
            "orientation": "horizontal",
            "style": "IPY_MODEL_65a072d8139047a080cd52487ac922f0",
            "value": 3
          }
        },
        "a842b14bd3f24594be17e6dc48e3685c": {
          "model_module": "@jupyter-widgets/controls",
          "model_module_version": "1.5.0",
          "model_name": "HBoxModel",
          "state": {
            "_dom_classes": [],
            "_model_module": "@jupyter-widgets/controls",
            "_model_module_version": "1.5.0",
            "_model_name": "HBoxModel",
            "_view_count": null,
            "_view_module": "@jupyter-widgets/controls",
            "_view_module_version": "1.5.0",
            "_view_name": "HBoxView",
            "box_style": "",
            "children": [
              "IPY_MODEL_90cd35df23c2466ebfde7a2e0c36f9cf",
              "IPY_MODEL_b10549f878634280abd79d72e512e7c2",
              "IPY_MODEL_48b3f6506750411e9e2c7c92498483e7"
            ],
            "layout": "IPY_MODEL_bd80f4c3a0ff40f895df5e005456c7dc"
          }
        },
        "a8707f81d7264962bbc16ba749151615": {
          "model_module": "@jupyter-widgets/controls",
          "model_module_version": "1.5.0",
          "model_name": "ProgressStyleModel",
          "state": {
            "_model_module": "@jupyter-widgets/controls",
            "_model_module_version": "1.5.0",
            "_model_name": "ProgressStyleModel",
            "_view_count": null,
            "_view_module": "@jupyter-widgets/base",
            "_view_module_version": "1.2.0",
            "_view_name": "StyleView",
            "bar_color": null,
            "description_width": ""
          }
        },
        "aff8305e78404e2ea981d409ae75b9bc": {
          "model_module": "@jupyter-widgets/controls",
          "model_module_version": "1.5.0",
          "model_name": "HTMLModel",
          "state": {
            "_dom_classes": [],
            "_model_module": "@jupyter-widgets/controls",
            "_model_module_version": "1.5.0",
            "_model_name": "HTMLModel",
            "_view_count": null,
            "_view_module": "@jupyter-widgets/controls",
            "_view_module_version": "1.5.0",
            "_view_name": "HTMLView",
            "description": "",
            "description_tooltip": null,
            "layout": "IPY_MODEL_e628c89e893a4bc1a97ebb3e94fbeb80",
            "placeholder": "​",
            "style": "IPY_MODEL_903ef6964f894f2c93462231f9dd9ef9",
            "value": " 3/3 [00:16&lt;00:00,  5.42s/it, Loss/Train=0.592, Loss/Test=0.385, Acc/Test=84]"
          }
        },
        "b0e0917c000f43d39c92413c3f4945a6": {
          "model_module": "@jupyter-widgets/controls",
          "model_module_version": "1.5.0",
          "model_name": "ProgressStyleModel",
          "state": {
            "_model_module": "@jupyter-widgets/controls",
            "_model_module_version": "1.5.0",
            "_model_name": "ProgressStyleModel",
            "_view_count": null,
            "_view_module": "@jupyter-widgets/base",
            "_view_module_version": "1.2.0",
            "_view_name": "StyleView",
            "bar_color": null,
            "description_width": ""
          }
        },
        "b10549f878634280abd79d72e512e7c2": {
          "model_module": "@jupyter-widgets/controls",
          "model_module_version": "1.5.0",
          "model_name": "FloatProgressModel",
          "state": {
            "_dom_classes": [],
            "_model_module": "@jupyter-widgets/controls",
            "_model_module_version": "1.5.0",
            "_model_name": "FloatProgressModel",
            "_view_count": null,
            "_view_module": "@jupyter-widgets/controls",
            "_view_module_version": "1.5.0",
            "_view_name": "ProgressView",
            "bar_style": "success",
            "description": "",
            "description_tooltip": null,
            "layout": "IPY_MODEL_1925d485166a414cb6e608572c7965f0",
            "max": 6,
            "min": 0,
            "orientation": "horizontal",
            "style": "IPY_MODEL_57644bc6b578400981b2409e941e8d33",
            "value": 6
          }
        },
        "b10fa1e7227040dda3350d3ca4bbc606": {
          "model_module": "@jupyter-widgets/base",
          "model_module_version": "1.2.0",
          "model_name": "LayoutModel",
          "state": {
            "_model_module": "@jupyter-widgets/base",
            "_model_module_version": "1.2.0",
            "_model_name": "LayoutModel",
            "_view_count": null,
            "_view_module": "@jupyter-widgets/base",
            "_view_module_version": "1.2.0",
            "_view_name": "LayoutView",
            "align_content": null,
            "align_items": null,
            "align_self": null,
            "border": null,
            "bottom": null,
            "display": null,
            "flex": null,
            "flex_flow": null,
            "grid_area": null,
            "grid_auto_columns": null,
            "grid_auto_flow": null,
            "grid_auto_rows": null,
            "grid_column": null,
            "grid_gap": null,
            "grid_row": null,
            "grid_template_areas": null,
            "grid_template_columns": null,
            "grid_template_rows": null,
            "height": null,
            "justify_content": null,
            "justify_items": null,
            "left": null,
            "margin": null,
            "max_height": null,
            "max_width": null,
            "min_height": null,
            "min_width": null,
            "object_fit": null,
            "object_position": null,
            "order": null,
            "overflow": null,
            "overflow_x": null,
            "overflow_y": null,
            "padding": null,
            "right": null,
            "top": null,
            "visibility": null,
            "width": null
          }
        },
        "b179276d10a6459a8b3d5fa97c49a852": {
          "model_module": "@jupyter-widgets/controls",
          "model_module_version": "1.5.0",
          "model_name": "FloatProgressModel",
          "state": {
            "_dom_classes": [],
            "_model_module": "@jupyter-widgets/controls",
            "_model_module_version": "1.5.0",
            "_model_name": "FloatProgressModel",
            "_view_count": null,
            "_view_module": "@jupyter-widgets/controls",
            "_view_module_version": "1.5.0",
            "_view_name": "ProgressView",
            "bar_style": "success",
            "description": "",
            "description_tooltip": null,
            "layout": "IPY_MODEL_3093291e773540e6bc2ae7375468e9b0",
            "max": 3,
            "min": 0,
            "orientation": "horizontal",
            "style": "IPY_MODEL_cc1d63dbc51c416aa6324c535ef30cf7",
            "value": 3
          }
        },
        "b399d017987441d38fc6f476bec10eee": {
          "model_module": "@jupyter-widgets/base",
          "model_module_version": "1.2.0",
          "model_name": "LayoutModel",
          "state": {
            "_model_module": "@jupyter-widgets/base",
            "_model_module_version": "1.2.0",
            "_model_name": "LayoutModel",
            "_view_count": null,
            "_view_module": "@jupyter-widgets/base",
            "_view_module_version": "1.2.0",
            "_view_name": "LayoutView",
            "align_content": null,
            "align_items": null,
            "align_self": null,
            "border": null,
            "bottom": null,
            "display": null,
            "flex": null,
            "flex_flow": null,
            "grid_area": null,
            "grid_auto_columns": null,
            "grid_auto_flow": null,
            "grid_auto_rows": null,
            "grid_column": null,
            "grid_gap": null,
            "grid_row": null,
            "grid_template_areas": null,
            "grid_template_columns": null,
            "grid_template_rows": null,
            "height": null,
            "justify_content": null,
            "justify_items": null,
            "left": null,
            "margin": null,
            "max_height": null,
            "max_width": null,
            "min_height": null,
            "min_width": null,
            "object_fit": null,
            "object_position": null,
            "order": null,
            "overflow": null,
            "overflow_x": null,
            "overflow_y": null,
            "padding": null,
            "right": null,
            "top": null,
            "visibility": null,
            "width": null
          }
        },
        "b3d38fca109d446c8b874a5822c9122d": {
          "model_module": "@jupyter-widgets/base",
          "model_module_version": "1.2.0",
          "model_name": "LayoutModel",
          "state": {
            "_model_module": "@jupyter-widgets/base",
            "_model_module_version": "1.2.0",
            "_model_name": "LayoutModel",
            "_view_count": null,
            "_view_module": "@jupyter-widgets/base",
            "_view_module_version": "1.2.0",
            "_view_name": "LayoutView",
            "align_content": null,
            "align_items": null,
            "align_self": null,
            "border": null,
            "bottom": null,
            "display": null,
            "flex": null,
            "flex_flow": null,
            "grid_area": null,
            "grid_auto_columns": null,
            "grid_auto_flow": null,
            "grid_auto_rows": null,
            "grid_column": null,
            "grid_gap": null,
            "grid_row": null,
            "grid_template_areas": null,
            "grid_template_columns": null,
            "grid_template_rows": null,
            "height": null,
            "justify_content": null,
            "justify_items": null,
            "left": null,
            "margin": null,
            "max_height": null,
            "max_width": null,
            "min_height": null,
            "min_width": null,
            "object_fit": null,
            "object_position": null,
            "order": null,
            "overflow": null,
            "overflow_x": null,
            "overflow_y": null,
            "padding": null,
            "right": null,
            "top": null,
            "visibility": null,
            "width": null
          }
        },
        "b923d403cd434c59b6751a011a5aed13": {
          "model_module": "@jupyter-widgets/controls",
          "model_module_version": "1.5.0",
          "model_name": "DescriptionStyleModel",
          "state": {
            "_model_module": "@jupyter-widgets/controls",
            "_model_module_version": "1.5.0",
            "_model_name": "DescriptionStyleModel",
            "_view_count": null,
            "_view_module": "@jupyter-widgets/base",
            "_view_module_version": "1.2.0",
            "_view_name": "StyleView",
            "description_width": ""
          }
        },
        "ba8c30fa578647b8a647291c8bd66ad6": {
          "model_module": "@jupyter-widgets/base",
          "model_module_version": "1.2.0",
          "model_name": "LayoutModel",
          "state": {
            "_model_module": "@jupyter-widgets/base",
            "_model_module_version": "1.2.0",
            "_model_name": "LayoutModel",
            "_view_count": null,
            "_view_module": "@jupyter-widgets/base",
            "_view_module_version": "1.2.0",
            "_view_name": "LayoutView",
            "align_content": null,
            "align_items": null,
            "align_self": null,
            "border": null,
            "bottom": null,
            "display": null,
            "flex": null,
            "flex_flow": null,
            "grid_area": null,
            "grid_auto_columns": null,
            "grid_auto_flow": null,
            "grid_auto_rows": null,
            "grid_column": null,
            "grid_gap": null,
            "grid_row": null,
            "grid_template_areas": null,
            "grid_template_columns": null,
            "grid_template_rows": null,
            "height": null,
            "justify_content": null,
            "justify_items": null,
            "left": null,
            "margin": null,
            "max_height": null,
            "max_width": null,
            "min_height": null,
            "min_width": null,
            "object_fit": null,
            "object_position": null,
            "order": null,
            "overflow": null,
            "overflow_x": null,
            "overflow_y": null,
            "padding": null,
            "right": null,
            "top": null,
            "visibility": null,
            "width": null
          }
        },
        "bcfea3d013314c1cbeb37f3777fb5cfb": {
          "model_module": "@jupyter-widgets/base",
          "model_module_version": "1.2.0",
          "model_name": "LayoutModel",
          "state": {
            "_model_module": "@jupyter-widgets/base",
            "_model_module_version": "1.2.0",
            "_model_name": "LayoutModel",
            "_view_count": null,
            "_view_module": "@jupyter-widgets/base",
            "_view_module_version": "1.2.0",
            "_view_name": "LayoutView",
            "align_content": null,
            "align_items": null,
            "align_self": null,
            "border": null,
            "bottom": null,
            "display": null,
            "flex": null,
            "flex_flow": null,
            "grid_area": null,
            "grid_auto_columns": null,
            "grid_auto_flow": null,
            "grid_auto_rows": null,
            "grid_column": null,
            "grid_gap": null,
            "grid_row": null,
            "grid_template_areas": null,
            "grid_template_columns": null,
            "grid_template_rows": null,
            "height": null,
            "justify_content": null,
            "justify_items": null,
            "left": null,
            "margin": null,
            "max_height": null,
            "max_width": null,
            "min_height": null,
            "min_width": null,
            "object_fit": null,
            "object_position": null,
            "order": null,
            "overflow": null,
            "overflow_x": null,
            "overflow_y": null,
            "padding": null,
            "right": null,
            "top": null,
            "visibility": null,
            "width": null
          }
        },
        "bd80f4c3a0ff40f895df5e005456c7dc": {
          "model_module": "@jupyter-widgets/base",
          "model_module_version": "1.2.0",
          "model_name": "LayoutModel",
          "state": {
            "_model_module": "@jupyter-widgets/base",
            "_model_module_version": "1.2.0",
            "_model_name": "LayoutModel",
            "_view_count": null,
            "_view_module": "@jupyter-widgets/base",
            "_view_module_version": "1.2.0",
            "_view_name": "LayoutView",
            "align_content": null,
            "align_items": null,
            "align_self": null,
            "border": null,
            "bottom": null,
            "display": null,
            "flex": null,
            "flex_flow": null,
            "grid_area": null,
            "grid_auto_columns": null,
            "grid_auto_flow": null,
            "grid_auto_rows": null,
            "grid_column": null,
            "grid_gap": null,
            "grid_row": null,
            "grid_template_areas": null,
            "grid_template_columns": null,
            "grid_template_rows": null,
            "height": null,
            "justify_content": null,
            "justify_items": null,
            "left": null,
            "margin": null,
            "max_height": null,
            "max_width": null,
            "min_height": null,
            "min_width": null,
            "object_fit": null,
            "object_position": null,
            "order": null,
            "overflow": null,
            "overflow_x": null,
            "overflow_y": null,
            "padding": null,
            "right": null,
            "top": null,
            "visibility": null,
            "width": null
          }
        },
        "c0635ba3f21840bf9b2d911a1b1845e9": {
          "model_module": "@jupyter-widgets/controls",
          "model_module_version": "1.5.0",
          "model_name": "DescriptionStyleModel",
          "state": {
            "_model_module": "@jupyter-widgets/controls",
            "_model_module_version": "1.5.0",
            "_model_name": "DescriptionStyleModel",
            "_view_count": null,
            "_view_module": "@jupyter-widgets/base",
            "_view_module_version": "1.2.0",
            "_view_name": "StyleView",
            "description_width": ""
          }
        },
        "cb3270b1b33f4a09bf0bd629e022b50f": {
          "model_module": "@jupyter-widgets/controls",
          "model_module_version": "1.5.0",
          "model_name": "HBoxModel",
          "state": {
            "_dom_classes": [],
            "_model_module": "@jupyter-widgets/controls",
            "_model_module_version": "1.5.0",
            "_model_name": "HBoxModel",
            "_view_count": null,
            "_view_module": "@jupyter-widgets/controls",
            "_view_module_version": "1.5.0",
            "_view_name": "HBoxView",
            "box_style": "",
            "children": [
              "IPY_MODEL_f0995a3b260340808e11e61bf33e2925",
              "IPY_MODEL_a2e3d3b72f9c45b5b9b421f60a8c1126",
              "IPY_MODEL_6d3e703fe4744d95b554c42faa0b37f1"
            ],
            "layout": "IPY_MODEL_2cd6225868c34dd0adf3f92bba74cab1"
          }
        },
        "cc1d63dbc51c416aa6324c535ef30cf7": {
          "model_module": "@jupyter-widgets/controls",
          "model_module_version": "1.5.0",
          "model_name": "ProgressStyleModel",
          "state": {
            "_model_module": "@jupyter-widgets/controls",
            "_model_module_version": "1.5.0",
            "_model_name": "ProgressStyleModel",
            "_view_count": null,
            "_view_module": "@jupyter-widgets/base",
            "_view_module_version": "1.2.0",
            "_view_name": "StyleView",
            "bar_color": null,
            "description_width": ""
          }
        },
        "cfabc25e61bb43cc9abbc4121cc6fbbd": {
          "model_module": "@jupyter-widgets/base",
          "model_module_version": "1.2.0",
          "model_name": "LayoutModel",
          "state": {
            "_model_module": "@jupyter-widgets/base",
            "_model_module_version": "1.2.0",
            "_model_name": "LayoutModel",
            "_view_count": null,
            "_view_module": "@jupyter-widgets/base",
            "_view_module_version": "1.2.0",
            "_view_name": "LayoutView",
            "align_content": null,
            "align_items": null,
            "align_self": null,
            "border": null,
            "bottom": null,
            "display": null,
            "flex": null,
            "flex_flow": null,
            "grid_area": null,
            "grid_auto_columns": null,
            "grid_auto_flow": null,
            "grid_auto_rows": null,
            "grid_column": null,
            "grid_gap": null,
            "grid_row": null,
            "grid_template_areas": null,
            "grid_template_columns": null,
            "grid_template_rows": null,
            "height": null,
            "justify_content": null,
            "justify_items": null,
            "left": null,
            "margin": null,
            "max_height": null,
            "max_width": null,
            "min_height": null,
            "min_width": null,
            "object_fit": null,
            "object_position": null,
            "order": null,
            "overflow": null,
            "overflow_x": null,
            "overflow_y": null,
            "padding": null,
            "right": null,
            "top": null,
            "visibility": null,
            "width": null
          }
        },
        "d0590855f9024412a2c088f392c430ea": {
          "model_module": "@jupyter-widgets/base",
          "model_module_version": "1.2.0",
          "model_name": "LayoutModel",
          "state": {
            "_model_module": "@jupyter-widgets/base",
            "_model_module_version": "1.2.0",
            "_model_name": "LayoutModel",
            "_view_count": null,
            "_view_module": "@jupyter-widgets/base",
            "_view_module_version": "1.2.0",
            "_view_name": "LayoutView",
            "align_content": null,
            "align_items": null,
            "align_self": null,
            "border": null,
            "bottom": null,
            "display": null,
            "flex": null,
            "flex_flow": null,
            "grid_area": null,
            "grid_auto_columns": null,
            "grid_auto_flow": null,
            "grid_auto_rows": null,
            "grid_column": null,
            "grid_gap": null,
            "grid_row": null,
            "grid_template_areas": null,
            "grid_template_columns": null,
            "grid_template_rows": null,
            "height": null,
            "justify_content": null,
            "justify_items": null,
            "left": null,
            "margin": null,
            "max_height": null,
            "max_width": null,
            "min_height": null,
            "min_width": null,
            "object_fit": null,
            "object_position": null,
            "order": null,
            "overflow": null,
            "overflow_x": null,
            "overflow_y": null,
            "padding": null,
            "right": null,
            "top": null,
            "visibility": null,
            "width": null
          }
        },
        "d313c17ffba64e5f9b3cd74589e6974b": {
          "model_module": "@jupyter-widgets/controls",
          "model_module_version": "1.5.0",
          "model_name": "HBoxModel",
          "state": {
            "_dom_classes": [],
            "_model_module": "@jupyter-widgets/controls",
            "_model_module_version": "1.5.0",
            "_model_name": "HBoxModel",
            "_view_count": null,
            "_view_module": "@jupyter-widgets/controls",
            "_view_module_version": "1.5.0",
            "_view_name": "HBoxView",
            "box_style": "",
            "children": [
              "IPY_MODEL_230a816454cf48e7ad9c5b37ca1066a6",
              "IPY_MODEL_ff27eb06f11e4c5b8727c4e77d43dbe6",
              "IPY_MODEL_d5bfeeae172b4e1b959ef0eb1f7b9202"
            ],
            "layout": "IPY_MODEL_23873ebce0324a048cfb59661ff21f85"
          }
        },
        "d5bfeeae172b4e1b959ef0eb1f7b9202": {
          "model_module": "@jupyter-widgets/controls",
          "model_module_version": "1.5.0",
          "model_name": "HTMLModel",
          "state": {
            "_dom_classes": [],
            "_model_module": "@jupyter-widgets/controls",
            "_model_module_version": "1.5.0",
            "_model_name": "HTMLModel",
            "_view_count": null,
            "_view_module": "@jupyter-widgets/controls",
            "_view_module_version": "1.5.0",
            "_view_name": "HTMLView",
            "description": "",
            "description_tooltip": null,
            "layout": "IPY_MODEL_ba8c30fa578647b8a647291c8bd66ad6",
            "placeholder": "​",
            "style": "IPY_MODEL_219b4bae75be4627902015bfa2440126",
            "value": " 3/3 [00:17&lt;00:00,  5.92s/it, Loss/Train=0.68, Loss/Test=1.42, Acc/Test=46.5]"
          }
        },
        "d5e0eee2a08e44d697fce6f8e916149f": {
          "model_module": "@jupyter-widgets/controls",
          "model_module_version": "1.5.0",
          "model_name": "DescriptionStyleModel",
          "state": {
            "_model_module": "@jupyter-widgets/controls",
            "_model_module_version": "1.5.0",
            "_model_name": "DescriptionStyleModel",
            "_view_count": null,
            "_view_module": "@jupyter-widgets/base",
            "_view_module_version": "1.2.0",
            "_view_name": "StyleView",
            "description_width": ""
          }
        },
        "dad8bdfb4d6041d3a9bf402a25f7bd98": {
          "model_module": "@jupyter-widgets/controls",
          "model_module_version": "1.5.0",
          "model_name": "DescriptionStyleModel",
          "state": {
            "_model_module": "@jupyter-widgets/controls",
            "_model_module_version": "1.5.0",
            "_model_name": "DescriptionStyleModel",
            "_view_count": null,
            "_view_module": "@jupyter-widgets/base",
            "_view_module_version": "1.2.0",
            "_view_name": "StyleView",
            "description_width": ""
          }
        },
        "e4c88116e6164798bb749e0158e11bd4": {
          "model_module": "@jupyter-widgets/controls",
          "model_module_version": "1.5.0",
          "model_name": "HBoxModel",
          "state": {
            "_dom_classes": [],
            "_model_module": "@jupyter-widgets/controls",
            "_model_module_version": "1.5.0",
            "_model_name": "HBoxModel",
            "_view_count": null,
            "_view_module": "@jupyter-widgets/controls",
            "_view_module_version": "1.5.0",
            "_view_name": "HBoxView",
            "box_style": "",
            "children": [
              "IPY_MODEL_9242e983aad44002a5961b958daad15b",
              "IPY_MODEL_5177979bce85465fb8bf37ca3d9ef590",
              "IPY_MODEL_aff8305e78404e2ea981d409ae75b9bc"
            ],
            "layout": "IPY_MODEL_b3d38fca109d446c8b874a5822c9122d"
          }
        },
        "e628c89e893a4bc1a97ebb3e94fbeb80": {
          "model_module": "@jupyter-widgets/base",
          "model_module_version": "1.2.0",
          "model_name": "LayoutModel",
          "state": {
            "_model_module": "@jupyter-widgets/base",
            "_model_module_version": "1.2.0",
            "_model_name": "LayoutModel",
            "_view_count": null,
            "_view_module": "@jupyter-widgets/base",
            "_view_module_version": "1.2.0",
            "_view_name": "LayoutView",
            "align_content": null,
            "align_items": null,
            "align_self": null,
            "border": null,
            "bottom": null,
            "display": null,
            "flex": null,
            "flex_flow": null,
            "grid_area": null,
            "grid_auto_columns": null,
            "grid_auto_flow": null,
            "grid_auto_rows": null,
            "grid_column": null,
            "grid_gap": null,
            "grid_row": null,
            "grid_template_areas": null,
            "grid_template_columns": null,
            "grid_template_rows": null,
            "height": null,
            "justify_content": null,
            "justify_items": null,
            "left": null,
            "margin": null,
            "max_height": null,
            "max_width": null,
            "min_height": null,
            "min_width": null,
            "object_fit": null,
            "object_position": null,
            "order": null,
            "overflow": null,
            "overflow_x": null,
            "overflow_y": null,
            "padding": null,
            "right": null,
            "top": null,
            "visibility": null,
            "width": null
          }
        },
        "e9eddc414de74de28bcd352490e49f73": {
          "model_module": "@jupyter-widgets/controls",
          "model_module_version": "1.5.0",
          "model_name": "HBoxModel",
          "state": {
            "_dom_classes": [],
            "_model_module": "@jupyter-widgets/controls",
            "_model_module_version": "1.5.0",
            "_model_name": "HBoxModel",
            "_view_count": null,
            "_view_module": "@jupyter-widgets/controls",
            "_view_module_version": "1.5.0",
            "_view_name": "HBoxView",
            "box_style": "",
            "children": [
              "IPY_MODEL_5574f05b274b43a4ac9198239bbef20a",
              "IPY_MODEL_80eb6e109a7f49449f6648f7c27882a7",
              "IPY_MODEL_7d659366d37b4bd59d265e33b2c1bd30"
            ],
            "layout": "IPY_MODEL_7123fa9dd36b450f888f8179a1eef8b6"
          }
        },
        "ea327191c5f1439ca1e5ec7f0ebb3565": {
          "model_module": "@jupyter-widgets/controls",
          "model_module_version": "1.5.0",
          "model_name": "HTMLModel",
          "state": {
            "_dom_classes": [],
            "_model_module": "@jupyter-widgets/controls",
            "_model_module_version": "1.5.0",
            "_model_name": "HTMLModel",
            "_view_count": null,
            "_view_module": "@jupyter-widgets/controls",
            "_view_module_version": "1.5.0",
            "_view_name": "HTMLView",
            "description": "",
            "description_tooltip": null,
            "layout": "IPY_MODEL_cfabc25e61bb43cc9abbc4121cc6fbbd",
            "placeholder": "​",
            "style": "IPY_MODEL_9395d5ee856c41ff9e80b897681db6b1",
            "value": "Epoch: 100%"
          }
        },
        "ed23c8b21fd3468dbe12b7376e774c03": {
          "model_module": "@jupyter-widgets/controls",
          "model_module_version": "1.5.0",
          "model_name": "ProgressStyleModel",
          "state": {
            "_model_module": "@jupyter-widgets/controls",
            "_model_module_version": "1.5.0",
            "_model_name": "ProgressStyleModel",
            "_view_count": null,
            "_view_module": "@jupyter-widgets/base",
            "_view_module_version": "1.2.0",
            "_view_name": "StyleView",
            "bar_color": null,
            "description_width": ""
          }
        },
        "f0995a3b260340808e11e61bf33e2925": {
          "model_module": "@jupyter-widgets/controls",
          "model_module_version": "1.5.0",
          "model_name": "HTMLModel",
          "state": {
            "_dom_classes": [],
            "_model_module": "@jupyter-widgets/controls",
            "_model_module_version": "1.5.0",
            "_model_name": "HTMLModel",
            "_view_count": null,
            "_view_module": "@jupyter-widgets/controls",
            "_view_module_version": "1.5.0",
            "_view_name": "HTMLView",
            "description": "",
            "description_tooltip": null,
            "layout": "IPY_MODEL_9711d3d5881d44d498f2c085ae90d095",
            "placeholder": "​",
            "style": "IPY_MODEL_1630d050ca0c4331856ffcb268d7901a",
            "value": "Epoch: 100%"
          }
        },
        "ff27eb06f11e4c5b8727c4e77d43dbe6": {
          "model_module": "@jupyter-widgets/controls",
          "model_module_version": "1.5.0",
          "model_name": "FloatProgressModel",
          "state": {
            "_dom_classes": [],
            "_model_module": "@jupyter-widgets/controls",
            "_model_module_version": "1.5.0",
            "_model_name": "FloatProgressModel",
            "_view_count": null,
            "_view_module": "@jupyter-widgets/controls",
            "_view_module_version": "1.5.0",
            "_view_name": "ProgressView",
            "bar_style": "success",
            "description": "",
            "description_tooltip": null,
            "layout": "IPY_MODEL_3be4acc41f084ffa89b94f9994b64cd1",
            "max": 3,
            "min": 0,
            "orientation": "horizontal",
            "style": "IPY_MODEL_ed23c8b21fd3468dbe12b7376e774c03",
            "value": 3
          }
        }
      }
    }
  },
  "nbformat": 4,
  "nbformat_minor": 0
}
