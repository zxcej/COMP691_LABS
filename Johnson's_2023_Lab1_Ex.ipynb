{
  "nbformat": 4,
  "nbformat_minor": 0,
  "metadata": {
    "colab": {
      "provenance": [],
      "include_colab_link": true
    },
    "kernelspec": {
      "name": "python3",
      "display_name": "Python 3"
    }
  },
  "cells": [
    {
      "cell_type": "markdown",
      "metadata": {
        "id": "view-in-github",
        "colab_type": "text"
      },
      "source": [
        "<a href=\"https://colab.research.google.com/github/zxcej/COMP691_LABS/blob/main/Johnson's_2023_Lab1_Ex.ipynb\" target=\"_parent\"><img src=\"https://colab.research.google.com/assets/colab-badge.svg\" alt=\"Open In Colab\"/></a>"
      ]
    },
    {
      "cell_type": "markdown",
      "source": [
        "# Lab 1 Exercises for COMP 691 (Deep Learning)\n",
        "\n",
        "In this lab we are going to review some of Python's scientific toolkits. The goal is to familarize you with Google Colab so you can start to get comfortable with it. Colab offers free GPUs, which will be very helpful for this course.\n",
        "\n",
        "Start by making a **copy** of this notebook in your Google Colab\n",
        "."
      ],
      "metadata": {
        "id": "gZ8rj_itne_8"
      }
    },
    {
      "cell_type": "markdown",
      "source": [
        "# New Section"
      ],
      "metadata": {
        "id": "YjPsygOT5pVP"
      }
    },
    {
      "cell_type": "markdown",
      "metadata": {
        "id": "YkgGMWCauzi9"
      },
      "source": [
        "## Exercise 1: Hello there!\n",
        "\n",
        "For starters, run the line below!"
      ]
    },
    {
      "cell_type": "code",
      "metadata": {
        "id": "3sLyrcnCuymG"
      },
      "source": [
        "print('hello Colab')"
      ],
      "execution_count": null,
      "outputs": []
    },
    {
      "cell_type": "markdown",
      "source": [
        "---"
      ],
      "metadata": {
        "id": "Oz-si-bqotrP"
      }
    },
    {
      "cell_type": "markdown",
      "metadata": {
        "id": "S02d9PimAZKJ"
      },
      "source": [
        "## Exercise 2: Plotting\n",
        "\n",
        "Consider the function \n",
        "$f(x)$ = $\\exp(-(x-2)^2)+\\exp(-\\frac{(x-6)^2}{10})+\\frac{1}{x^2+1}$\n",
        "\n",
        "*   **Import** *pyplot* module from [matplotlib ](https://matplotlib.org/stable/api/_as_gen/matplotlib.pyplot.html) as plt\n",
        "\n",
        "*  **Use** [np.linspace](https://numpy.org/doc/stable/reference/generated/numpy.linspace.html) to sample the points in the interval [-10,10]\n",
        "\n",
        "*  **Plot** the function $f(x)$ in the range $[-10,10]$ using matplotlib\n",
        "\n",
        "*  **Use** plt.xlabel, plt.ylabel, and plt.title appropriately. \n",
        "\n",
        "*   Try and get comfortable with creating functions wherever you think is necessary.\n",
        "\n",
        "Your plot should look something like this.\n",
        "\n",
        "<img src='https://drive.google.com/uc?id=1fviWqemVN7qz06cBx4leI0XJ9o_fOZS2' width=\"350\" height=\"200\" class=\"center\">\n"
      ]
    },
    {
      "cell_type": "code",
      "metadata": {
        "id": "7GLUHKx2ymEE"
      },
      "source": [
        "#Your answer here\n",
        "import numpy as np\n",
        "import matplotlib.pyplot as plt\n",
        "\n",
        "#Plot with matplotlib"
      ],
      "execution_count": null,
      "outputs": []
    },
    {
      "cell_type": "markdown",
      "source": [
        "---"
      ],
      "metadata": {
        "id": "8yYHKQwjoxSn"
      }
    },
    {
      "cell_type": "markdown",
      "metadata": {
        "id": "aDfbqtKuveLv"
      },
      "source": [
        "## Exercise 3: Data Visualization and Multi-Class Classification\n",
        "\n",
        "\n",
        "In this exercise, we will work with a dataset called [wine](https://scikit-learn.org/stable/modules/generated/sklearn.datasets.load_wine.html) which has 3 categories and 178 samples. For each sample there are 13 features. \n",
        "\n",
        "Start by running the cell below."
      ]
    },
    {
      "cell_type": "code",
      "metadata": {
        "id": "pV4VKRTEvjMD"
      },
      "source": [
        "#Load sklearn data\n",
        "from sklearn.datasets import load_wine\n",
        "data = load_wine()\n",
        "#targets for each sample \n",
        "print(data.target.shape)\n",
        "print(data.data.shape)"
      ],
      "execution_count": null,
      "outputs": []
    },
    {
      "cell_type": "markdown",
      "metadata": {
        "id": "li61Qo2CBndi"
      },
      "source": [
        "### Exercise 3.1:\n",
        "\n",
        " Now let's use [T-SNE](http://scikit-learn.org/stable/modules/generated/sklearn.manifold.TSNE.html) to visualize the data in 2-D (number of components= 2). This means that T-SNE will project down the data from having 13 dimensions/features to having 2 dimensions.\n",
        "\n",
        " *  Use learning_rate='auto' and init='random' as hyperparameters for your T-SNE object.\n",
        " *  Use [plt.scatter](https://matplotlib.org/stable/api/_as_gen/matplotlib.pyplot.scatter.html) to create a scatter plot of your embedded data to visualize the embedding space.\n",
        " *  Make sure your scatter plot has x and y labels as well as a title and a legend.\n",
        "\n",
        " \n",
        " **Note:** T-SNE does not learn an explicit mapping of the data from the feature space to the embedding space. Therefore, it is possible that when you run T-SNE multiple times you could end up with different plots. This is why T-SNE is useless for classification tasks!\n",
        "\n",
        " Your scatter plot should look something like this\n",
        "\n",
        " <img src='https://drive.google.com/uc?id=1yk-9Sov7ZZeZrz0XsrGPSIbKUvyptZnq'>\n"
      ]
    },
    {
      "cell_type": "code",
      "metadata": {
        "id": "FnGgg-dOqvqH"
      },
      "source": [
        "#Run this cell\n",
        "from sklearn.manifold import TSNE\n",
        "X_embedded = TSNE(n_components=2, learning_rate='auto', init='random').fit_transform(data.data)"
      ],
      "execution_count": null,
      "outputs": []
    },
    {
      "cell_type": "code",
      "metadata": {
        "id": "9TJl39huF86m"
      },
      "source": [
        "from matplotlib.pyplot import scatter\n",
        "#Make a scatter plot with X_embedded\n"
      ],
      "execution_count": null,
      "outputs": []
    },
    {
      "cell_type": "markdown",
      "metadata": {
        "id": "6rcXIvDsF7QV"
      },
      "source": [
        "### Exercise 3.2:\n",
        "\n",
        " Pick any **two** models from the list of sklearn models below:\n",
        "\n",
        " *   [LogisticRegression](http://scikit-learn.org/stable/modules/generated/sklearn.linear_model.LogisticRegression.html)\n",
        "\n",
        "*   [RandomForest](http://scikit-learn.org/stable/modules/generated/sklearn.ensemble.RandomForestClassifier.html)\n",
        "\n",
        "*   [MLPClassifier](http://scikit-learn.org/stable/modules/generated/sklearn.neural_network.MLPClassifier.html)\n",
        "\n",
        "*   [GradientBoosting](http://scikit-learn.org/stable/modules/generated/sklearn.ensemble.GradientBoostingClassifier.html)\n",
        "----\n",
        "Requirements: \n",
        "\n",
        "1. First start by **splitting** your data into two sets: train and test using the 80/20 split rule.\n",
        "2. **Train** your 2 models of choice using the train set. Make sure to set the appropriate hyperparameters for each model.\n",
        "3. **Evaluate** your trained models on both the train and test data by getting the accuracy.\n",
        "\n",
        "Note: For reproducibility fix the random_state=42. \n",
        "Your test accuracy should be >95%\n",
        "\n"
      ]
    },
    {
      "cell_type": "code",
      "metadata": {
        "id": "SMykNVd-F-zN"
      },
      "source": [
        "from sklearn.model_selection import train_test_split\n",
        "\n",
        "#split into train and test set\n",
        "X_train, X_test, y_train, y_test = train_test_split(data.data, data.target, test_size=0.2, random_state=42)\n",
        "print(X_train.shape)\n",
        "print(X_test.shape)"
      ],
      "execution_count": null,
      "outputs": []
    },
    {
      "cell_type": "code",
      "metadata": {
        "id": "SDhtebNWsXaQ"
      },
      "source": [
        "#Train and evaluate accuracy with 2 of the model, your answer below"
      ],
      "execution_count": null,
      "outputs": []
    },
    {
      "cell_type": "markdown",
      "source": [
        "---"
      ],
      "metadata": {
        "id": "FcmVLWy33Bjb"
      }
    }
  ]
}