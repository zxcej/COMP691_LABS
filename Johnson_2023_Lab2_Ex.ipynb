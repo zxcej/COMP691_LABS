{
  "cells": [
    {
      "cell_type": "markdown",
      "metadata": {
        "id": "view-in-github",
        "colab_type": "text"
      },
      "source": [
        "<a href=\"https://colab.research.google.com/github/zxcej/COMP691_LABS/blob/main/Johnson_2023_Lab2_Ex.ipynb\" target=\"_parent\"><img src=\"https://colab.research.google.com/assets/colab-badge.svg\" alt=\"Open In Colab\"/></a>"
      ]
    },
    {
      "cell_type": "markdown",
      "metadata": {
        "id": "S02d9PimAZKJ"
      },
      "source": [
        "# Lab 2 Exercises for COMP 691 (Deep Learning)\n",
        "\n",
        "In this lab we will learn some basics of Pytorch. \n",
        "- You will implement a feedforward neural network using different implementation styles.\n",
        "- Understand how to use torch autograd for calculating gradients.\n",
        "- Learn how to use GPUs for computation speed.\n",
        "\n",
        "Save your answers for this lab as they will be used for part of Lab 3. \n",
        "\n",
        "Start by making a **copy** of this notebook in your Google Colab.\n"
      ]
    },
    {
      "cell_type": "markdown",
      "metadata": {
        "id": "CIDPxv5l2qpI"
      },
      "source": [
        "# Exercise 1: Loading the dataset\n",
        "\n",
        "Below we will create a dataloader for the MNIST training data using torchvision package (following e.g. https://github.com/pytorch/examples/blob/master/mnist/main.py#L112-L120). \n",
        "\n",
        "The dataloader iterates over the training set and will output **mini-batches of size 256** image samples. \n",
        "\n",
        "**Note**: you do not need to use the image labels in the rest of this lab since you will not be doing any training. \n",
        "\n",
        "Remarks about using GPU:\n",
        "\n",
        "- The \"device\" variable allows us to select which device to place the data on. Modify your colab (or local environment) to use a GPU.\n",
        "\n",
        "- To use GPU in Google Colab, go to Runtime then choose \"change runtime type\". Then choose the hardware accelerator as GPU. \n",
        "\n",
        "- In your Google Colab notebook set the variable device to \"cuda\", rerunning the cell below such that the data is placed on GPU inside the for loop.\n"
      ]
    },
    {
      "cell_type": "code",
      "execution_count": 24,
      "metadata": {
        "colab": {
          "base_uri": "https://localhost:8080/",
          "height": 0
        },
        "id": "QfDg7vxJbGRe",
        "outputId": "86e2d955-6ac8-4129-c9c3-0e6f498d9295"
      },
      "outputs": [
        {
          "output_type": "stream",
          "name": "stdout",
          "text": [
            "torch.Size([256, 1, 28, 28])\n",
            "torch.Size([256])\n",
            "cuda:0\n"
          ]
        }
      ],
      "source": [
        "from torchvision import datasets,transforms\n",
        "import torch\n",
        "dataset1 = datasets.MNIST('../data', train=True, download=True, transform=transforms.ToTensor())\n",
        "train_loader = torch.utils.data.DataLoader(dataset1, \n",
        "                                           batch_size=256, \n",
        "                                           shuffle=True,\n",
        "                                           drop_last=True)\n",
        "\n",
        "device='cuda'\n",
        "\n",
        "for (data, target) in train_loader:\n",
        "  data = data.to(device)\n",
        "  target = target.to(device)\n",
        "print(data.shape)\n",
        "print(target.shape)\n",
        "print(data.device)"
      ]
    },
    {
      "cell_type": "markdown",
      "metadata": {
        "id": "9dVarmxYuQMI"
      },
      "source": [
        "If you ran the code cell above, you will notice that the data is a tensor of shape ([256, 1, 28, 28]) = (batch_size, number of color channels, length of image in pixels, width of image in pixels)"
      ]
    },
    {
      "cell_type": "markdown",
      "metadata": {
        "id": "14MBuiusdZmA"
      },
      "source": [
        "# Exercise 2: Building a neural network from the ground up!\n",
        "\n",
        "Network Architecture: \n",
        "- Using only torch primitives (e.g. [torch.matmul](https://pytorch.org/docs/stable/generated/torch.matmul.html), [torch._relu](https://pytorch.org/docs/stable/generated/torch.nn.ReLU.html), etc) implement a simple feedforward neural network with 2 hidden layers that takes as input MNIST digits (28x28) and outputs **a single scalar value** i.e., the class. Avoid using any functions from torch.nn class. \n",
        "\n",
        "\n",
        "- You may select the hidden layer width (greater than 20) and activations (tanh, relu, sigmoid, others) as desired.  \n",
        "\n",
        "- A typical layer will transform its inputs as follows: $y = σ (Wx+b) $, where $σ$ is the non-linear activation function.\n",
        "\n",
        "- Initialize the weights  with [uniform random values](https://pytorch.org/docs/stable/generated/torch.rand.html) in the range -1 to 1 and [biases at 0](https://pytorch.org/docs/stable/generated/torch.zeros.html). \n",
        "\n",
        "Data:\n",
        "\n",
        "Using the data obtained from Exercise 1, make a forward pass through the dataset in mini-batches of 256 (feed the network data). To check you are on the right track, the shape of your output should be ([256]). \n",
        "\n",
        "**Hint:** Remember that the goal is to feed the MNIST images and get a class label for each image. In this exercise there is no training so do not expect that the label will be meaningful/correct!\n",
        "\n",
        "Pay attention to the shape of the input and how it gets changed as it passes from one layer to the next in the forward pass. Ex: (256, 28*28) -> (256, hiddden_size_1) -> (256,hidden_size_2) -> (256,1). This will help you when constructing the layers of the network.\n",
        "\n"
      ]
    },
    {
      "cell_type": "code",
      "execution_count": 17,
      "metadata": {
        "id": "bhZ0I_q7dnb9",
        "outputId": "f007a6ca-985c-47f6-8f0c-5d205522503a",
        "colab": {
          "base_uri": "https://localhost:8080/",
          "height": 0
        }
      },
      "outputs": [
        {
          "output_type": "stream",
          "name": "stdout",
          "text": [
            "torch.Size([256])\n",
            "cpu\n"
          ]
        }
      ],
      "source": [
        "import torch\n",
        "\n",
        "## Initialize and track the parameters using a list or dictionary (modify the None)\n",
        "h1_size = 50\n",
        "h2_size = 50\n",
        "param_dict = {\n",
        "    \"W0\": torch.rand(28*28, h1_size)*2-1,\n",
        "    \"b0\": torch.rand(h1_size)*2-1,\n",
        "    \"W1\": torch.rand(h1_size, h2_size)*2-1,  \n",
        "    \"b1\": torch.rand(h2_size)*2-1,\n",
        "    \"W2\": torch.rand(h2_size, 1)*2-1,\n",
        "    \"b2\": torch.rand(1)*2-1,\n",
        "    }\n",
        "\n",
        "\n",
        "\n",
        "## Make sure your parameters in param_dict require gradient for training the network later! \n",
        "\n",
        "for name , param in param_dict.items():\n",
        "    param.requires_grad = True\n",
        "    param_dict[name] = param.to(device)\n",
        "    param_dict[name].retain_grad()\n",
        "\n",
        "\n",
        "## Define the network\n",
        "def my_nn(input, param_dict):\n",
        "    r\"\"\"Performs a single forward pass of a Neural Network with the given \n",
        "    parameters in param_dict.\n",
        "\n",
        "    Args:\n",
        "        input (torch.tensor): Batch of images of shape (B, H, W), where B is \n",
        "            the number of input samples,and H and W are the image height and \n",
        "            width respectively.\n",
        "        param_dict (dict of torch.tensor): Dictionary containing the parameters\n",
        "            of the neural network. Expects dictionary keys to be of format \n",
        "            \"W#\" and \"b#\" where # is the layer number.\n",
        "\n",
        "    Returns:\n",
        "        torch.tensor: Neural network output of shape (B, )\n",
        "    \"\"\"\n",
        "    #Reshape the input image from HxW to a flat vector\n",
        "    x = input.view(-1 , 28*28).to(device)\n",
        "    x.requires_grad = True\n",
        "\n",
        "    \n",
        "    #Your code here\n",
        "    #Layer 1 using relu\n",
        "    x = torch.relu(x @ param_dict[\"W0\"] + param_dict[\"b0\"])\n",
        "    #Layer 2 using relu\n",
        "    x = torch.relu(x @ param_dict[\"W1\"] + param_dict[\"b1\"])\n",
        "    #output\n",
        "    x = x @ param_dict[\"W2\"] + param_dict[\"b2\"]\n",
        "    return x.view(-1)\n",
        "\n",
        "\n",
        "\n",
        "## Perform forward pass\n",
        "#forward pass\n",
        "output = my_nn(data, param_dict)\n",
        "print(output.shape)\n",
        "print(output.device)\n",
        "  \n",
        "  \n"
      ]
    },
    {
      "cell_type": "markdown",
      "metadata": {
        "id": "ndXpk3C5bwQ8"
      },
      "source": [
        "#Exercise 3: Implementing the same network using torch.nn.module\n",
        "\n",
        "Implement a new torch.nn.module that performs the equivalent of the network in Exercise 2 and call it \"model\". \n",
        "\n",
        "Initialize it with the same weights (ex: **nn.Linear**(in_features,out_features) so that you could have a fair comparison between the two networks. The way to do this is through **weight.data** = insert your desired weights. You can do a similar thing with the bias). \n",
        "\n",
        "Validate the outputs of this network is the same as the one in Exercise 2 on MNIST training set."
      ]
    },
    {
      "cell_type": "code",
      "execution_count": 18,
      "metadata": {
        "id": "Nbgzjuqtlhvx"
      },
      "outputs": [],
      "source": [
        "import torch.nn as nn\n",
        "class MyNN(torch.nn.Module):\n",
        "\n",
        "    def __init__(self,h1,h2):\n",
        "        super(MyNN, self).__init__()\n",
        "        self.l0 = nn.Linear(28*28,h1).to(device) #input dim goes here\n",
        "        self.l1= nn.Linear(h1,h2).to(device)\n",
        "        self.l2 = nn.Linear(h2,1).to(device) #output dim goes here --> remember you have 10 classes\n",
        "\n",
        "\n",
        "    def forward(self, x):\n",
        "        x = x.view(-1, 28*28)\n",
        "        h0 = self.l0(x) # output will be the one specified in __init__\n",
        "        x = torch.relu(h0)\n",
        "        h1 = self.l1(x)\n",
        "        x = torch.relu(h1)\n",
        "        return self.l2(x).view(-1)\n",
        "\n",
        "model = MyNN(h1_size,h2_size)"
      ]
    },
    {
      "cell_type": "markdown",
      "metadata": {
        "id": "KLgkHOa6TnsJ"
      },
      "source": [
        "## Exercise 3.1: Validating that the two implementations are equal.\n",
        "\n",
        "First you will need to make sure the param_dict from Exercise 2 and the nn module version have the same parameters (weights and biases). \n",
        "\n",
        "You can do this for example using: \"**model.linear1.weight.data** = copy.deepcopy(param_dict['W0'].data.T)\". \n",
        "\n",
        "**Note**: that we do a deepcopy just to make sure this model is separate from the one in the above cell"
      ]
    },
    {
      "cell_type": "code",
      "execution_count": 19,
      "metadata": {
        "id": "-2j98UsXTqza",
        "outputId": "3c5e2221-d092-49b0-a337-63450f7fbeea",
        "colab": {
          "base_uri": "https://localhost:8080/",
          "height": 0
        }
      },
      "outputs": [
        {
          "output_type": "stream",
          "name": "stdout",
          "text": [
            "All Clear !\n"
          ]
        }
      ],
      "source": [
        "import copy\n",
        "#Copy parameters from param_dict to nn module parameters\n",
        "model.l0.weight.data = copy.deepcopy(param_dict['W0'].data.T)\n",
        "model.l0.bias.data = copy.deepcopy(param_dict['b0'].data)\n",
        "model.l1.weight.data = copy.deepcopy(param_dict['W1'].data.T)\n",
        "model.l1.bias.data = copy.deepcopy(param_dict['b1'].data)\n",
        "model.l2.weight.data = copy.deepcopy(param_dict['W2'].data.T)\n",
        "model.l2.bias.data = copy.deepcopy(param_dict['b2'].data)\n",
        "#Run the assert statement below to check they match\n",
        "for i,(data, _) in enumerate(train_loader):\n",
        "  assert(((model(data)-my_nn(data, param_dict))**2).mean()<1e-4) # check that all the outputs are roughly equal\n",
        "print(\"All Clear !\")"
      ]
    },
    {
      "cell_type": "markdown",
      "metadata": {
        "id": "t4WyZ8PFFuMT"
      },
      "source": [
        "#Exercise 4: Calculating gradients. \n",
        "\n",
        "For a single mini-batch of 256 samples (you can select any minibatch), compute the gradient of the average of the neural network outputs (over the minibatch) w.r.t to the weights. \n",
        "\n",
        "### Let's break this down:\n",
        "\n",
        "First you will need to get the mean/average of the outputs. Then you need find the gradient of this mean w.r.t to the weights.\n",
        "\n",
        "To find the gradient you can use torch autograd, which you can use simply it by calling **.backward()** on the desired variable.\n",
        "\n",
        "Your task is to print the gradients for the first layer weight and bias. You can use either the model defined from exercise 2 or 3 for this.  \n",
        "\n",
        "**Note**: The network here is $f: \\mathcal{R}^{HW}\\rightarrow\\mathcal{R}$, which means that your input layer has $HW$ neurons ($HW$ features) and your output layer has one output neuron (one scalar output = class). Since each batch has $256$ samples, the mean can be obtained by $o=\\frac{1}{256}\\sum_{i=0}^{255}f(x_i)$ or simply calling **.mean()** on the output of the network. You are asked to find $\\nabla_w o$ and $\\nabla_b o$. To access the gradient of each parameter you can call **.grad**."
      ]
    },
    {
      "cell_type": "code",
      "execution_count": 20,
      "metadata": {
        "id": "_WoNwefYGPWL",
        "outputId": "b4252410-9693-4972-f355-7a8f84e55706",
        "colab": {
          "base_uri": "https://localhost:8080/",
          "height": 0
        }
      },
      "outputs": [
        {
          "output_type": "stream",
          "name": "stdout",
          "text": [
            "All Clear !\n"
          ]
        }
      ],
      "source": [
        "output1 = model(data).mean()\n",
        "output1.backward()\n",
        "\n",
        "output2 = my_nn(data, param_dict).mean()\n",
        "output2.backward()\n",
        "\n",
        "epsilon = 1e-4\n",
        "assert(torch.norm(param_dict['W0'].grad.T - model.l0.weight.grad)<epsilon)\n",
        "assert(torch.norm(param_dict['b0'].grad - model.l0.bias.grad)<epsilon)\n",
        "assert(torch.norm(param_dict['W1'].grad.T - model.l1.weight.grad)<epsilon)\n",
        "assert(torch.norm(param_dict['b1'].grad - model.l1.bias.grad)<epsilon)\n",
        "assert(torch.norm(param_dict['W2'].grad.T - model.l2.weight.grad)<epsilon)\n",
        "assert(torch.norm(param_dict['b2'].grad - model.l2.bias.grad)<epsilon)\n",
        "print(\"All Clear !\")\n",
        "\n",
        "model.zero_grad() # for nn module\n",
        "\n",
        "for (_,param) in param_dict.items():\n",
        "  if param.grad is not None: # grad buffer doesnt exist until the first backward pass\n",
        "    param.grad.detach_() # by default the gradient is in the computation graph\n",
        "    param.grad.zero_()\n"
      ]
    },
    {
      "cell_type": "markdown",
      "metadata": {
        "id": "-YHbWOIQHKow"
      },
      "source": [
        "#Exercise 5: CPU or GPU ?\n",
        "\n",
        "Below you will find code for comparing the speed of a model on CPU and GPU as well as comparing the speed of a forward pass to a forward/backward pass. Instantiate a version of your model from exercise 3 (preferably a larger version e.g. width 100 or 500) and run the timing code. \n",
        "\n",
        "Write 1-2 sentences to summarize your observations about the relative speed's of CPU/GPU and forward/backward"
      ]
    },
    {
      "cell_type": "code",
      "execution_count": 21,
      "metadata": {
        "id": "jIP99BLcd6mQ"
      },
      "outputs": [],
      "source": [
        "#Instantiate a model defined from (3) here\n",
        "model = MyNN(1000,1000)"
      ]
    },
    {
      "cell_type": "code",
      "execution_count": 22,
      "metadata": {
        "id": "U_YXGlTaeC_N",
        "outputId": "6e4fabae-b10b-4ef8-9c19-c1eb5fc50d7c",
        "colab": {
          "base_uri": "https://localhost:8080/",
          "height": 0
        }
      },
      "outputs": [
        {
          "output_type": "stream",
          "name": "stdout",
          "text": [
            "Running on CPU\n",
            "Time taken forward 0.1332094669342041\n",
            "Time taken forward/backward 0.3723299503326416\n"
          ]
        }
      ],
      "source": [
        "#Run on CPU\n",
        "import time as timer\n",
        "data = data.to('cpu')\n",
        "model.cpu()\n",
        "\n",
        "print('Running on CPU')\n",
        "\n",
        "start = timer.time()\n",
        "for _ in range(10):\n",
        "  model(data)\n",
        "print(\"Time taken forward\", timer.time() - start) \n",
        "\n",
        "start = timer.time()\n",
        "for _ in range(10):\n",
        "  out = model(data).mean()\n",
        "  out.backward()\n",
        "print(\"Time taken forward/backward\", timer.time() - start) "
      ]
    },
    {
      "cell_type": "code",
      "execution_count": 25,
      "metadata": {
        "id": "KNTKRXeWePzl",
        "outputId": "d6a59253-85f0-48b0-9ce5-788500ad914e",
        "colab": {
          "base_uri": "https://localhost:8080/",
          "height": 0
        }
      },
      "outputs": [
        {
          "output_type": "stream",
          "name": "stdout",
          "text": [
            "Running on GPU\n",
            "Time taken 0.005534648895263672\n",
            "Time taken forward/backward 0.017503738403320312\n"
          ]
        }
      ],
      "source": [
        "#Run on GPU\n",
        "#initialize cuda\n",
        "data = data.to('cuda')\n",
        "model.cuda()\n",
        "model(data)\n",
        "print('Running on GPU')\n",
        "\n",
        "\n",
        "start = timer.time()\n",
        "for _ in range(10):\n",
        "  model(data)\n",
        "torch.cuda.synchronize()\n",
        "print(\"Time taken\", timer.time() - start) \n",
        "\n",
        "start = timer.time()\n",
        "for _ in range(10):\n",
        "  out = model(data).mean()\n",
        "  out.backward()\n",
        "torch.cuda.synchronize()\n",
        "print(\"Time taken forward/backward\", timer.time() - start) "
      ]
    },
    {
      "cell_type": "markdown",
      "metadata": {
        "id": "1oLuAwYyeqqt"
      },
      "source": [
        "Summary of observations here: \n",
        "\n",
        "The time it takes on GPU is much less than CPU, suggesting GPU is better at performing these tasks. The time takes for backward is around 2x - 3x of forward."
      ]
    }
  ],
  "metadata": {
    "accelerator": "GPU",
    "colab": {
      "provenance": [],
      "toc_visible": true,
      "include_colab_link": true
    },
    "gpuClass": "standard",
    "kernelspec": {
      "display_name": ".venv",
      "language": "python",
      "name": "python3"
    },
    "language_info": {
      "codemirror_mode": {
        "name": "ipython",
        "version": 3
      },
      "file_extension": ".py",
      "mimetype": "text/x-python",
      "name": "python",
      "nbconvert_exporter": "python",
      "pygments_lexer": "ipython3",
      "version": "3.9.7"
    },
    "vscode": {
      "interpreter": {
        "hash": "63075362c8d96c0694eea802e32384973fa14ab497a9d2cc1491a70294264df6"
      }
    }
  },
  "nbformat": 4,
  "nbformat_minor": 0
}